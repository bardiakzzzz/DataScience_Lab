{
  "nbformat": 4,
  "nbformat_minor": 0,
  "metadata": {
    "colab": {
      "name": "DS_LAB_Final_Project_LSTM.ipynb",
      "provenance": [],
      "collapsed_sections": []
    },
    "kernelspec": {
      "name": "python3",
      "display_name": "Python 3"
    },
    "language_info": {
      "name": "python"
    },
    "accelerator": "GPU"
  },
  "cells": [
    {
      "cell_type": "markdown",
      "source": [
        "# Get Dataset"
      ],
      "metadata": {
        "id": "OM9CBkET1IRC"
      }
    },
    {
      "cell_type": "code",
      "execution_count": null,
      "metadata": {
        "id": "NvpA-e-V1ECz"
      },
      "outputs": [],
      "source": [
        "!wget https://dbdmg.polito.it/dbdmg_web/wp-content/uploads/2021/12/DSL2122_january_dataset.zip\n",
        "!unzip DSL2122_january_dataset.zip"
      ]
    },
    {
      "cell_type": "markdown",
      "source": [
        "# Import required libraries"
      ],
      "metadata": {
        "id": "U8GbagIH1R3p"
      }
    },
    {
      "cell_type": "code",
      "source": [
        "import numpy as np\n",
        "import pandas as pd\n",
        "from tensorflow.keras.preprocessing.text import Tokenizer\n",
        "from tensorflow.keras.preprocessing.sequence import pad_sequences\n",
        "from tensorflow.keras import utils\n",
        "from sklearn.model_selection import train_test_split\n",
        "from tensorflow import keras\n",
        "import matplotlib.pyplot as plt\n",
        "from sklearn.metrics import classification_report\n",
        "from sklearn.metrics import confusion_matrix, ConfusionMatrixDisplay"
      ],
      "metadata": {
        "id": "HF6Be_1Y1RAb"
      },
      "execution_count": null,
      "outputs": []
    },
    {
      "cell_type": "markdown",
      "source": [
        "# Preview of Dataset"
      ],
      "metadata": {
        "id": "HJ1EMzDl1abt"
      }
    },
    {
      "cell_type": "code",
      "source": [
        "dataframe = pd.read_csv('/content/DSL2122_january_dataset/development.csv')\n",
        "dataframe"
      ],
      "metadata": {
        "colab": {
          "base_uri": "https://localhost:8080/",
          "height": 423
        },
        "id": "2qUsWY-Z1Y7k",
        "outputId": "3a78d94a-82b8-4bc6-ddd8-4066220414ad"
      },
      "execution_count": null,
      "outputs": [
        {
          "output_type": "execute_result",
          "data": {
            "text/html": [
              "\n",
              "  <div id=\"df-27495f65-655b-450d-b2fc-361cbdf0f39a\">\n",
              "    <div class=\"colab-df-container\">\n",
              "      <div>\n",
              "<style scoped>\n",
              "    .dataframe tbody tr th:only-of-type {\n",
              "        vertical-align: middle;\n",
              "    }\n",
              "\n",
              "    .dataframe tbody tr th {\n",
              "        vertical-align: top;\n",
              "    }\n",
              "\n",
              "    .dataframe thead th {\n",
              "        text-align: right;\n",
              "    }\n",
              "</style>\n",
              "<table border=\"1\" class=\"dataframe\">\n",
              "  <thead>\n",
              "    <tr style=\"text-align: right;\">\n",
              "      <th></th>\n",
              "      <th>sentiment</th>\n",
              "      <th>ids</th>\n",
              "      <th>date</th>\n",
              "      <th>flag</th>\n",
              "      <th>user</th>\n",
              "      <th>text</th>\n",
              "    </tr>\n",
              "  </thead>\n",
              "  <tbody>\n",
              "    <tr>\n",
              "      <th>0</th>\n",
              "      <td>1</td>\n",
              "      <td>1833972543</td>\n",
              "      <td>Mon May 18 01:08:27 PDT 2009</td>\n",
              "      <td>NO_QUERY</td>\n",
              "      <td>Killandra</td>\n",
              "      <td>@MissBianca76 Yes, talking helps a lot.. going...</td>\n",
              "    </tr>\n",
              "    <tr>\n",
              "      <th>1</th>\n",
              "      <td>1</td>\n",
              "      <td>1980318193</td>\n",
              "      <td>Sun May 31 06:23:17 PDT 2009</td>\n",
              "      <td>NO_QUERY</td>\n",
              "      <td>IMlisacowan</td>\n",
              "      <td>SUNSHINE. livingg itttt. imma lie on the grass...</td>\n",
              "    </tr>\n",
              "    <tr>\n",
              "      <th>2</th>\n",
              "      <td>1</td>\n",
              "      <td>1994409198</td>\n",
              "      <td>Mon Jun 01 11:52:54 PDT 2009</td>\n",
              "      <td>NO_QUERY</td>\n",
              "      <td>yaseminx3</td>\n",
              "      <td>@PleaseBeMine Something for your iphone</td>\n",
              "    </tr>\n",
              "    <tr>\n",
              "      <th>3</th>\n",
              "      <td>0</td>\n",
              "      <td>1824749377</td>\n",
              "      <td>Sun May 17 02:45:34 PDT 2009</td>\n",
              "      <td>NO_QUERY</td>\n",
              "      <td>no_surprises</td>\n",
              "      <td>@GabrielSaporta couldn't get in to the after p...</td>\n",
              "    </tr>\n",
              "    <tr>\n",
              "      <th>4</th>\n",
              "      <td>0</td>\n",
              "      <td>2001199113</td>\n",
              "      <td>Tue Jun 02 00:08:07 PDT 2009</td>\n",
              "      <td>NO_QUERY</td>\n",
              "      <td>Rhi_ShortStack</td>\n",
              "      <td>@bradiewebbstack awww is andy being mean again...</td>\n",
              "    </tr>\n",
              "    <tr>\n",
              "      <th>...</th>\n",
              "      <td>...</td>\n",
              "      <td>...</td>\n",
              "      <td>...</td>\n",
              "      <td>...</td>\n",
              "      <td>...</td>\n",
              "      <td>...</td>\n",
              "    </tr>\n",
              "    <tr>\n",
              "      <th>224989</th>\n",
              "      <td>0</td>\n",
              "      <td>2261324310</td>\n",
              "      <td>Sat Jun 20 20:36:48 PDT 2009</td>\n",
              "      <td>NO_QUERY</td>\n",
              "      <td>CynthiaBuroughs</td>\n",
              "      <td>@Dropsofreign yeah I hope Iran people reach fr...</td>\n",
              "    </tr>\n",
              "    <tr>\n",
              "      <th>224990</th>\n",
              "      <td>1</td>\n",
              "      <td>1989408152</td>\n",
              "      <td>Mon Jun 01 01:25:45 PDT 2009</td>\n",
              "      <td>NO_QUERY</td>\n",
              "      <td>unitechy</td>\n",
              "      <td>Trying the qwerty keypad</td>\n",
              "    </tr>\n",
              "    <tr>\n",
              "      <th>224991</th>\n",
              "      <td>0</td>\n",
              "      <td>1991221316</td>\n",
              "      <td>Mon Jun 01 06:38:10 PDT 2009</td>\n",
              "      <td>NO_QUERY</td>\n",
              "      <td>Xaan</td>\n",
              "      <td>I love Jasper &amp;amp; Jackson but that wig in th...</td>\n",
              "    </tr>\n",
              "    <tr>\n",
              "      <th>224992</th>\n",
              "      <td>0</td>\n",
              "      <td>2239702807</td>\n",
              "      <td>Fri Jun 19 08:51:56 PDT 2009</td>\n",
              "      <td>NO_QUERY</td>\n",
              "      <td>Ginger_Billie</td>\n",
              "      <td>I am really tired and bored and bleh! I feel c...</td>\n",
              "    </tr>\n",
              "    <tr>\n",
              "      <th>224993</th>\n",
              "      <td>1</td>\n",
              "      <td>2016018811</td>\n",
              "      <td>Wed Jun 03 06:00:29 PDT 2009</td>\n",
              "      <td>NO_QUERY</td>\n",
              "      <td>kevin_choo</td>\n",
              "      <td>@alyshatan good luck!! It sounds interesting t...</td>\n",
              "    </tr>\n",
              "  </tbody>\n",
              "</table>\n",
              "<p>224994 rows × 6 columns</p>\n",
              "</div>\n",
              "      <button class=\"colab-df-convert\" onclick=\"convertToInteractive('df-27495f65-655b-450d-b2fc-361cbdf0f39a')\"\n",
              "              title=\"Convert this dataframe to an interactive table.\"\n",
              "              style=\"display:none;\">\n",
              "        \n",
              "  <svg xmlns=\"http://www.w3.org/2000/svg\" height=\"24px\"viewBox=\"0 0 24 24\"\n",
              "       width=\"24px\">\n",
              "    <path d=\"M0 0h24v24H0V0z\" fill=\"none\"/>\n",
              "    <path d=\"M18.56 5.44l.94 2.06.94-2.06 2.06-.94-2.06-.94-.94-2.06-.94 2.06-2.06.94zm-11 1L8.5 8.5l.94-2.06 2.06-.94-2.06-.94L8.5 2.5l-.94 2.06-2.06.94zm10 10l.94 2.06.94-2.06 2.06-.94-2.06-.94-.94-2.06-.94 2.06-2.06.94z\"/><path d=\"M17.41 7.96l-1.37-1.37c-.4-.4-.92-.59-1.43-.59-.52 0-1.04.2-1.43.59L10.3 9.45l-7.72 7.72c-.78.78-.78 2.05 0 2.83L4 21.41c.39.39.9.59 1.41.59.51 0 1.02-.2 1.41-.59l7.78-7.78 2.81-2.81c.8-.78.8-2.07 0-2.86zM5.41 20L4 18.59l7.72-7.72 1.47 1.35L5.41 20z\"/>\n",
              "  </svg>\n",
              "      </button>\n",
              "      \n",
              "  <style>\n",
              "    .colab-df-container {\n",
              "      display:flex;\n",
              "      flex-wrap:wrap;\n",
              "      gap: 12px;\n",
              "    }\n",
              "\n",
              "    .colab-df-convert {\n",
              "      background-color: #E8F0FE;\n",
              "      border: none;\n",
              "      border-radius: 50%;\n",
              "      cursor: pointer;\n",
              "      display: none;\n",
              "      fill: #1967D2;\n",
              "      height: 32px;\n",
              "      padding: 0 0 0 0;\n",
              "      width: 32px;\n",
              "    }\n",
              "\n",
              "    .colab-df-convert:hover {\n",
              "      background-color: #E2EBFA;\n",
              "      box-shadow: 0px 1px 2px rgba(60, 64, 67, 0.3), 0px 1px 3px 1px rgba(60, 64, 67, 0.15);\n",
              "      fill: #174EA6;\n",
              "    }\n",
              "\n",
              "    [theme=dark] .colab-df-convert {\n",
              "      background-color: #3B4455;\n",
              "      fill: #D2E3FC;\n",
              "    }\n",
              "\n",
              "    [theme=dark] .colab-df-convert:hover {\n",
              "      background-color: #434B5C;\n",
              "      box-shadow: 0px 1px 3px 1px rgba(0, 0, 0, 0.15);\n",
              "      filter: drop-shadow(0px 1px 2px rgba(0, 0, 0, 0.3));\n",
              "      fill: #FFFFFF;\n",
              "    }\n",
              "  </style>\n",
              "\n",
              "      <script>\n",
              "        const buttonEl =\n",
              "          document.querySelector('#df-27495f65-655b-450d-b2fc-361cbdf0f39a button.colab-df-convert');\n",
              "        buttonEl.style.display =\n",
              "          google.colab.kernel.accessAllowed ? 'block' : 'none';\n",
              "\n",
              "        async function convertToInteractive(key) {\n",
              "          const element = document.querySelector('#df-27495f65-655b-450d-b2fc-361cbdf0f39a');\n",
              "          const dataTable =\n",
              "            await google.colab.kernel.invokeFunction('convertToInteractive',\n",
              "                                                     [key], {});\n",
              "          if (!dataTable) return;\n",
              "\n",
              "          const docLinkHtml = 'Like what you see? Visit the ' +\n",
              "            '<a target=\"_blank\" href=https://colab.research.google.com/notebooks/data_table.ipynb>data table notebook</a>'\n",
              "            + ' to learn more about interactive tables.';\n",
              "          element.innerHTML = '';\n",
              "          dataTable['output_type'] = 'display_data';\n",
              "          await google.colab.output.renderOutput(dataTable, element);\n",
              "          const docLink = document.createElement('div');\n",
              "          docLink.innerHTML = docLinkHtml;\n",
              "          element.appendChild(docLink);\n",
              "        }\n",
              "      </script>\n",
              "    </div>\n",
              "  </div>\n",
              "  "
            ],
            "text/plain": [
              "        sentiment  ...                                               text\n",
              "0               1  ...  @MissBianca76 Yes, talking helps a lot.. going...\n",
              "1               1  ...  SUNSHINE. livingg itttt. imma lie on the grass...\n",
              "2               1  ...           @PleaseBeMine Something for your iphone \n",
              "3               0  ...  @GabrielSaporta couldn't get in to the after p...\n",
              "4               0  ...  @bradiewebbstack awww is andy being mean again...\n",
              "...           ...  ...                                                ...\n",
              "224989          0  ...  @Dropsofreign yeah I hope Iran people reach fr...\n",
              "224990          1  ...                          Trying the qwerty keypad \n",
              "224991          0  ...  I love Jasper &amp; Jackson but that wig in th...\n",
              "224992          0  ...  I am really tired and bored and bleh! I feel c...\n",
              "224993          1  ...  @alyshatan good luck!! It sounds interesting t...\n",
              "\n",
              "[224994 rows x 6 columns]"
            ]
          },
          "metadata": {},
          "execution_count": 3
        }
      ]
    },
    {
      "cell_type": "markdown",
      "source": [
        "# Analyzing Dataset"
      ],
      "metadata": {
        "id": "XkCO7MaKs6QG"
      }
    },
    {
      "cell_type": "code",
      "source": [
        "dataframe.info()"
      ],
      "metadata": {
        "colab": {
          "base_uri": "https://localhost:8080/"
        },
        "id": "8CzAI4p9s-cX",
        "outputId": "174fc118-42a5-4f48-96aa-c5611baf794b"
      },
      "execution_count": null,
      "outputs": [
        {
          "output_type": "stream",
          "name": "stdout",
          "text": [
            "<class 'pandas.core.frame.DataFrame'>\n",
            "RangeIndex: 224994 entries, 0 to 224993\n",
            "Data columns (total 6 columns):\n",
            " #   Column     Non-Null Count   Dtype \n",
            "---  ------     --------------   ----- \n",
            " 0   sentiment  224994 non-null  int64 \n",
            " 1   ids        224994 non-null  int64 \n",
            " 2   date       224994 non-null  object\n",
            " 3   flag       224994 non-null  object\n",
            " 4   user       224994 non-null  object\n",
            " 5   text       224994 non-null  object\n",
            "dtypes: int64(2), object(4)\n",
            "memory usage: 10.3+ MB\n"
          ]
        }
      ]
    },
    {
      "cell_type": "markdown",
      "source": [
        "We need only Sentiment and Text"
      ],
      "metadata": {
        "id": "fILOFuSDtNaj"
      }
    },
    {
      "cell_type": "code",
      "source": [
        "\"\"\" Some Examples \"\"\"\n",
        "\n",
        "print(dataframe['text'][63])\n",
        "# In this case one word is Binary(At least it is not english)\n",
        "\n",
        "print(dataframe['text'][51])\n",
        "# In this case we have @id + website\n",
        "\n",
        "print(dataframe['text'][149])\n",
        "# In this case word [-O] is not a word \n",
        "\n",
        "\n",
        "\"\"\" So many cases exist in the dataset like cases above and needs to be cleaned \"\"\""
      ],
      "metadata": {
        "colab": {
          "base_uri": "https://localhost:8080/",
          "height": 87
        },
        "id": "CALFgKY-tMb1",
        "outputId": "9450349d-fce8-4cdb-a953-ecdc9f0511da"
      },
      "execution_count": null,
      "outputs": [
        {
          "output_type": "stream",
          "name": "stdout",
          "text": [
            "@Md8oz that hurt  ã?³ just fucked me harddddd lol\n",
            "@HOTTVampChick here you go  http://bit.ly/qNtRH\n",
            "[-O] Just got off work getting ready to leave for INDPLS 500 mini-marathon. Wish me luck.  http://tinyurl.com/cnn45k\n"
          ]
        },
        {
          "output_type": "execute_result",
          "data": {
            "application/vnd.google.colaboratory.intrinsic+json": {
              "type": "string"
            },
            "text/plain": [
              "' So many cases exist in the dataset like cases above and needs to be cleaned '"
            ]
          },
          "metadata": {},
          "execution_count": 5
        }
      ]
    },
    {
      "cell_type": "code",
      "source": [
        "texts = dataframe['text']\n",
        "new_texts = []\n",
        "for i in range(len(texts)):\n",
        "  list_of_words = texts[i].split()\n",
        "  list_of_noise = ['@','http',':','&','^','$','www']\n",
        "  tmp = []\n",
        "  for word in list_of_words[:]:\n",
        "    if len(word) > 1 :\n",
        "      has_noise = False\n",
        "      for noise in list_of_noise:\n",
        "        if noise in word:\n",
        "          has_noise = True\n",
        "          break\n",
        "      if has_noise == False:\n",
        "        tmp.append(word)\n",
        "  new_tweet = \" \".join(tmp)\n",
        "  new_texts.append(new_tweet)\n",
        "\n",
        "print(len(texts))\n",
        "print(len(new_texts))"
      ],
      "metadata": {
        "colab": {
          "base_uri": "https://localhost:8080/"
        },
        "id": "CoMj-gq_xTPn",
        "outputId": "4499acdf-63ab-4c2c-e479-072aa4fc67b3"
      },
      "execution_count": null,
      "outputs": [
        {
          "output_type": "stream",
          "name": "stdout",
          "text": [
            "224994\n",
            "224994\n"
          ]
        }
      ]
    },
    {
      "cell_type": "code",
      "source": [
        "sentiments = dataframe['sentiment']\n",
        "\n",
        "maxLen = 0\n",
        "for text in new_texts:\n",
        "  if len(text) > maxLen:\n",
        "    maxLen = len(text)\n",
        "\n",
        "print(\"Max lenght of a tweet has \",maxLen,\" words\")"
      ],
      "metadata": {
        "id": "guMVe-7G1l04",
        "colab": {
          "base_uri": "https://localhost:8080/"
        },
        "outputId": "302d9ce7-5db8-4b39-f3ad-2dab48d9e169"
      },
      "execution_count": null,
      "outputs": [
        {
          "output_type": "stream",
          "name": "stdout",
          "text": [
            "Max lenght of a tweet has  356  words\n"
          ]
        }
      ]
    },
    {
      "cell_type": "code",
      "source": [
        "tokenizer = Tokenizer(num_words=10000)\n",
        "tokenizer.fit_on_texts(new_texts)\n",
        "sequences = tokenizer.texts_to_sequences(new_texts)\n",
        "word_index = tokenizer.word_index\n",
        "X = pad_sequences(sequences, maxlen=maxLen)\n",
        "Y = np.array(sentiments)"
      ],
      "metadata": {
        "id": "EaLIIVMBxPKD"
      },
      "execution_count": null,
      "outputs": []
    },
    {
      "cell_type": "markdown",
      "source": [
        "# Split Train and Validation"
      ],
      "metadata": {
        "id": "zPUpPScL8Pmu"
      }
    },
    {
      "cell_type": "code",
      "source": [
        "train_x , val_x, train_y ,val_y = train_test_split(X,Y,test_size = .15,stratify=Y)\n",
        "\n",
        "print('train : ',train_x.shape , train_y.shape)\n",
        "print('val : ',val_x.shape,val_y.shape)"
      ],
      "metadata": {
        "colab": {
          "base_uri": "https://localhost:8080/"
        },
        "id": "69N5jqGm6Tfn",
        "outputId": "247a1c2a-6490-436f-cc13-32ac3395b63b"
      },
      "execution_count": null,
      "outputs": [
        {
          "output_type": "stream",
          "name": "stdout",
          "text": [
            "train :  (191244, 356) (191244,)\n",
            "val :  (33750, 356) (33750,)\n"
          ]
        }
      ]
    },
    {
      "cell_type": "markdown",
      "source": [
        "# Use F1 accuracy as medric"
      ],
      "metadata": {
        "id": "6YKqVuhUw4WW"
      }
    },
    {
      "cell_type": "code",
      "source": [
        "from tensorflow.keras import backend as K\n",
        "\n",
        "def recall_m(y_true, y_pred):\n",
        "    true_positives = K.sum(K.round(K.clip(y_true * y_pred, 0, 1)))\n",
        "    possible_positives = K.sum(K.round(K.clip(y_true, 0, 1)))\n",
        "    recall = true_positives / (possible_positives + K.epsilon())\n",
        "    return recall\n",
        "\n",
        "def precision_m(y_true, y_pred):\n",
        "    true_positives = K.sum(K.round(K.clip(y_true * y_pred, 0, 1)))\n",
        "    predicted_positives = K.sum(K.round(K.clip(y_pred, 0, 1)))\n",
        "    precision = true_positives / (predicted_positives + K.epsilon())\n",
        "    return precision\n",
        "\n",
        "def f1_m(y_true, y_pred):\n",
        "    precision = precision_m(y_true, y_pred)\n",
        "    recall = recall_m(y_true, y_pred)\n",
        "    return 2*((precision*recall)/(precision+recall+K.epsilon()))"
      ],
      "metadata": {
        "id": "7JwqdPNyw8Rk"
      },
      "execution_count": null,
      "outputs": []
    },
    {
      "cell_type": "markdown",
      "source": [
        "# Building our Model"
      ],
      "metadata": {
        "id": "rzGsX36ZwyJT"
      }
    },
    {
      "cell_type": "code",
      "source": [
        "embedding_dim = 32\n",
        "input = keras.Input(shape=(maxLen))\n",
        "embedding_layer = keras.layers.Embedding(len(word_index) + 1,embedding_dim)\n",
        "embedded = embedding_layer(input)\n",
        "lstm = keras.layers.LSTM(256,dropout = 0.2)(embedded)\n",
        "dense = keras.layers.Dense(512,activation = 'relu')(lstm)\n",
        "dropout = keras.layers.Dropout(0.2)(dense)\n",
        "dense = keras.layers.Dense(64,activation = 'relu')(dropout)\n",
        "output = keras.layers.Dense(1,activation = 'sigmoid')(dense)\n",
        "\n",
        "model = keras.Model(input,output)\n",
        "model.compile(optimizer = keras.optimizers.Adam(learning_rate=1e-4),loss = 'binary_crossentropy',metrics=['acc',f1_m])\n",
        "model.summary()"
      ],
      "metadata": {
        "colab": {
          "base_uri": "https://localhost:8080/"
        },
        "id": "sbLunhoB8r45",
        "outputId": "00ec4679-083e-47af-efaa-68ccc90db6f9"
      },
      "execution_count": null,
      "outputs": [
        {
          "output_type": "stream",
          "name": "stdout",
          "text": [
            "Model: \"model\"\n",
            "_________________________________________________________________\n",
            " Layer (type)                Output Shape              Param #   \n",
            "=================================================================\n",
            " input_1 (InputLayer)        [(None, 356)]             0         \n",
            "                                                                 \n",
            " embedding (Embedding)       (None, 356, 32)           2663072   \n",
            "                                                                 \n",
            " lstm (LSTM)                 (None, 256)               295936    \n",
            "                                                                 \n",
            " dense (Dense)               (None, 512)               131584    \n",
            "                                                                 \n",
            " dropout (Dropout)           (None, 512)               0         \n",
            "                                                                 \n",
            " dense_1 (Dense)             (None, 64)                32832     \n",
            "                                                                 \n",
            " dense_2 (Dense)             (None, 1)                 65        \n",
            "                                                                 \n",
            "=================================================================\n",
            "Total params: 3,123,489\n",
            "Trainable params: 3,123,489\n",
            "Non-trainable params: 0\n",
            "_________________________________________________________________\n"
          ]
        }
      ]
    },
    {
      "cell_type": "code",
      "source": [
        "reduce_lr= keras.callbacks.ReduceLROnPlateau(monitor='val_loss',factor=0.2,patience=5,min_lr = 1e-6,verbose = 1)\n",
        "checkpoint_callback = keras.callbacks.ModelCheckpoint('model.h5', monitor='val_loss',mode='min',verbose=1, save_best_only=True,save_weights_only=True)\n",
        "checkpoint_callback_f1 = keras.callbacks.ModelCheckpoint('model_f1.h5', monitor='val_f1_m',mode='max',verbose=1, save_best_only=True,save_weights_only=True)\n",
        "\n",
        "\n",
        "history = model.fit(x = train_x,y= train_y,batch_size = 8,epochs = 10,validation_data = (val_x,val_y),validation_batch_size = 12,callbacks = [reduce_lr,checkpoint_callback,checkpoint_callback_f1])"
      ],
      "metadata": {
        "colab": {
          "base_uri": "https://localhost:8080/"
        },
        "id": "DkmFGwsr-wxT",
        "outputId": "197a300f-75b5-4cda-c3e6-6c4141bf3aef"
      },
      "execution_count": null,
      "outputs": [
        {
          "output_type": "stream",
          "name": "stdout",
          "text": [
            "Epoch 1/10\n",
            "23906/23906 [==============================] - ETA: 0s - loss: 0.4844 - acc: 0.7629 - f1_m: 0.7811\n",
            "Epoch 00001: val_loss improved from inf to 0.44265, saving model to model.h5\n",
            "\n",
            "Epoch 00001: val_f1_m improved from -inf to 0.80983, saving model to model_f1.h5\n",
            "23906/23906 [==============================] - 2176s 91ms/step - loss: 0.4844 - acc: 0.7629 - f1_m: 0.7811 - val_loss: 0.4426 - val_acc: 0.7928 - val_f1_m: 0.8098 - lr: 1.0000e-04\n",
            "Epoch 2/10\n",
            "23906/23906 [==============================] - ETA: 0s - loss: 0.4353 - acc: 0.7955 - f1_m: 0.8053\n",
            "Epoch 00002: val_loss improved from 0.44265 to 0.43232, saving model to model.h5\n",
            "\n",
            "Epoch 00002: val_f1_m did not improve from 0.80983\n",
            "23906/23906 [==============================] - 2144s 90ms/step - loss: 0.4353 - acc: 0.7955 - f1_m: 0.8053 - val_loss: 0.4323 - val_acc: 0.7971 - val_f1_m: 0.8095 - lr: 1.0000e-04\n",
            "Epoch 3/10\n",
            "23906/23906 [==============================] - ETA: 0s - loss: 0.4195 - acc: 0.8042 - f1_m: 0.8132\n",
            "Epoch 00003: val_loss improved from 0.43232 to 0.42514, saving model to model.h5\n",
            "\n",
            "Epoch 00003: val_f1_m improved from 0.80983 to 0.81592, saving model to model_f1.h5\n",
            "23906/23906 [==============================] - 2142s 90ms/step - loss: 0.4195 - acc: 0.8042 - f1_m: 0.8132 - val_loss: 0.4251 - val_acc: 0.7998 - val_f1_m: 0.8159 - lr: 1.0000e-04\n",
            "Epoch 4/10\n",
            "23906/23906 [==============================] - ETA: 0s - loss: 0.4067 - acc: 0.8122 - f1_m: 0.8207\n",
            "Epoch 00004: val_loss improved from 0.42514 to 0.42046, saving model to model.h5\n",
            "\n",
            "Epoch 00004: val_f1_m improved from 0.81592 to 0.81989, saving model to model_f1.h5\n",
            "23906/23906 [==============================] - 2147s 90ms/step - loss: 0.4067 - acc: 0.8122 - f1_m: 0.8207 - val_loss: 0.4205 - val_acc: 0.8034 - val_f1_m: 0.8199 - lr: 1.0000e-04\n",
            "Epoch 5/10\n",
            "23906/23906 [==============================] - ETA: 0s - loss: 0.3951 - acc: 0.8173 - f1_m: 0.8266\n",
            "Epoch 00005: val_loss improved from 0.42046 to 0.42035, saving model to model.h5\n",
            "\n",
            "Epoch 00005: val_f1_m improved from 0.81989 to 0.82153, saving model to model_f1.h5\n",
            "23906/23906 [==============================] - 2142s 90ms/step - loss: 0.3951 - acc: 0.8173 - f1_m: 0.8266 - val_loss: 0.4203 - val_acc: 0.8060 - val_f1_m: 0.8215 - lr: 1.0000e-04\n",
            "Epoch 6/10\n",
            "23906/23906 [==============================] - ETA: 0s - loss: 0.3850 - acc: 0.8247 - f1_m: 0.8329\n",
            "Epoch 00006: val_loss improved from 0.42035 to 0.41859, saving model to model.h5\n",
            "\n",
            "Epoch 00006: val_f1_m did not improve from 0.82153\n",
            "23906/23906 [==============================] - 2155s 90ms/step - loss: 0.3850 - acc: 0.8247 - f1_m: 0.8329 - val_loss: 0.4186 - val_acc: 0.8055 - val_f1_m: 0.8202 - lr: 1.0000e-04\n",
            "Epoch 7/10\n",
            "23906/23906 [==============================] - ETA: 0s - loss: 0.3760 - acc: 0.8291 - f1_m: 0.8370\n",
            "Epoch 00007: val_loss did not improve from 0.41859\n",
            "\n",
            "Epoch 00007: val_f1_m did not improve from 0.82153\n",
            "23906/23906 [==============================] - 2175s 91ms/step - loss: 0.3760 - acc: 0.8291 - f1_m: 0.8370 - val_loss: 0.4281 - val_acc: 0.8036 - val_f1_m: 0.8131 - lr: 1.0000e-04\n",
            "Epoch 8/10\n",
            "23906/23906 [==============================] - ETA: 0s - loss: 0.3682 - acc: 0.8335 - f1_m: 0.8415\n",
            "Epoch 00008: val_loss improved from 0.41859 to 0.41844, saving model to model.h5\n",
            "\n",
            "Epoch 00008: val_f1_m improved from 0.82153 to 0.82395, saving model to model_f1.h5\n",
            "23906/23906 [==============================] - 2197s 92ms/step - loss: 0.3682 - acc: 0.8335 - f1_m: 0.8415 - val_loss: 0.4184 - val_acc: 0.8072 - val_f1_m: 0.8239 - lr: 1.0000e-04\n",
            "Epoch 9/10\n",
            "23906/23906 [==============================] - ETA: 0s - loss: 0.3603 - acc: 0.8380 - f1_m: 0.8449\n",
            "Epoch 00009: val_loss did not improve from 0.41844\n",
            "\n",
            "Epoch 00009: val_f1_m did not improve from 0.82395\n",
            "23906/23906 [==============================] - 2184s 91ms/step - loss: 0.3603 - acc: 0.8380 - f1_m: 0.8449 - val_loss: 0.4273 - val_acc: 0.8035 - val_f1_m: 0.8154 - lr: 1.0000e-04\n",
            "Epoch 10/10\n",
            "23906/23906 [==============================] - ETA: 0s - loss: 0.3528 - acc: 0.8420 - f1_m: 0.8487\n",
            "Epoch 00010: val_loss did not improve from 0.41844\n",
            "\n",
            "Epoch 00010: val_f1_m did not improve from 0.82395\n",
            "23906/23906 [==============================] - 2152s 90ms/step - loss: 0.3528 - acc: 0.8420 - f1_m: 0.8487 - val_loss: 0.4326 - val_acc: 0.8049 - val_f1_m: 0.8228 - lr: 1.0000e-04\n"
          ]
        }
      ]
    },
    {
      "cell_type": "code",
      "source": [
        "!cp /content/model.h5 /content/drive/MyDrive"
      ],
      "metadata": {
        "id": "dgs4IkA5OvmU"
      },
      "execution_count": null,
      "outputs": []
    },
    {
      "cell_type": "markdown",
      "source": [
        "# Plot training"
      ],
      "metadata": {
        "id": "kQiyaAmECWW9"
      }
    },
    {
      "cell_type": "code",
      "source": [
        "def plot_acc(history, title = 'Accuracy'):\n",
        "    plt.figure(figsize=(15,10))\n",
        "    if not isinstance(history, dict):\n",
        "        history = history.history\n",
        "\n",
        "    plt.plot(history['acc'])\n",
        "    plt.plot(history['val_acc'])\n",
        "    if title is not None:\n",
        "        plt.title(title)\n",
        "\n",
        "    plt.ylabel('Accuracy')\n",
        "    plt.xlabel('Epoch')\n",
        "\n",
        "def plot_loss(history, title = 'loss'):\n",
        "    plt.figure(figsize=(15,10))\n",
        "    if not isinstance(history, dict):\n",
        "        history = history.history\n",
        "\n",
        "    plt.plot(history['loss'])\n",
        "    plt.plot(history['val_loss'])\n",
        "    if title is not None:\n",
        "        plt.title(title)\n",
        "\n",
        "plot_loss(history)\n",
        "plot_acc(history)"
      ],
      "metadata": {
        "id": "dnV5VAVv_nc_",
        "colab": {
          "base_uri": "https://localhost:8080/",
          "height": 1000
        },
        "outputId": "82a5816a-569f-48c8-b750-976eedd490c9"
      },
      "execution_count": null,
      "outputs": [
        {
          "output_type": "display_data",
          "data": {
            "image/png": "[encoded data removed]",
            "text/plain": [
              "<Figure size 1080x720 with 1 Axes>"
            ]
          },
          "metadata": {
            "needs_background": "light"
          }
        },
        {
          "output_type": "display_data",
          "data": {
            "image/png": "[encoded data removed]",
            "text/plain": [
              "<Figure size 1080x720 with 1 Axes>"
            ]
          },
          "metadata": {
            "needs_background": "light"
          }
        }
      ]
    },
    {
      "cell_type": "markdown",
      "source": [
        "# Evaluate Model"
      ],
      "metadata": {
        "id": "OtDaawsdCeRy"
      }
    },
    {
      "cell_type": "code",
      "source": [
        "model.load_weights('model_f1.h5')\n",
        "predictions = model.predict(val_x)\n",
        "target_names = ['Negative', 'Positive']\n",
        "print(classification_report(val_y, np.where(predictions>0.5,1,0), target_names=target_names))"
      ],
      "metadata": {
        "id": "IjLe-DOZChCu",
        "colab": {
          "base_uri": "https://localhost:8080/"
        },
        "outputId": "cc3d8519-bd38-4a30-852e-9dc121f37524"
      },
      "execution_count": null,
      "outputs": [
        {
          "output_type": "stream",
          "name": "stdout",
          "text": [
            "              precision    recall  f1-score   support\n",
            "\n",
            "    Negative       0.78      0.76      0.77     14226\n",
            "    Positive       0.83      0.84      0.83     19524\n",
            "\n",
            "    accuracy                           0.81     33750\n",
            "   macro avg       0.80      0.80      0.80     33750\n",
            "weighted avg       0.81      0.81      0.81     33750\n",
            "\n"
          ]
        }
      ]
    },
    {
      "cell_type": "code",
      "source": [
        "cm = confusion_matrix(y_true = val_y,y_pred = np.where(predictions>0.5,1,0), labels=[0,1])\n",
        "disp = ConfusionMatrixDisplay(confusion_matrix=cm,display_labels=target_names)\n",
        "disp.plot(cmap = \"Blues\")"
      ],
      "metadata": {
        "colab": {
          "base_uri": "https://localhost:8080/",
          "height": 296
        },
        "id": "NmsDYrFKUkfI",
        "outputId": "786a2fae-f10e-40f9-a444-7eb4b8bb6bed"
      },
      "execution_count": null,
      "outputs": [
        {
          "output_type": "execute_result",
          "data": {
            "text/plain": [
              "<sklearn.metrics._plot.confusion_matrix.ConfusionMatrixDisplay at 0x7f0e776a6f50>"
            ]
          },
          "metadata": {},
          "execution_count": 20
        },
        {
          "output_type": "display_data",
          "data": {
            "image/png": "[encoded data removed]",
            "text/plain": [
              "<Figure size 432x288 with 2 Axes>"
            ]
          },
          "metadata": {
            "needs_background": "light"
          }
        }
      ]
    },
    {
      "cell_type": "markdown",
      "source": [
        "# Test on Evaluation DataSet "
      ],
      "metadata": {
        "id": "WnUF14piDHXc"
      }
    },
    {
      "cell_type": "code",
      "source": [
        "test_dataframe = pd.read_csv('/content/DSL2122_january_dataset/evaluation.csv')\n",
        "texts = test_dataframe['text']\n",
        "\n",
        "maxLen_test = 0\n",
        "for text in texts:\n",
        "  if len(text) > maxLen_test:\n",
        "    maxLen_test = len(text)\n",
        "\n",
        "print(maxLen_test)\n",
        "\n",
        "new_texts = []\n",
        "for i in range(len(texts)):\n",
        "  list_of_words = texts[i].split()\n",
        "  list_of_noise = ['@','http',':','&','^','$','www']\n",
        "  tmp = []\n",
        "  for word in list_of_words[:]:\n",
        "    if len(word) > 1 :\n",
        "      has_noise = False\n",
        "      for noise in list_of_noise:\n",
        "        if noise in word:\n",
        "          has_noise = True\n",
        "          break\n",
        "      if has_noise == False:\n",
        "        tmp.append(word)\n",
        "  new_tweet = \" \".join(tmp)\n",
        "  new_texts.append(new_tweet)\n",
        "\n",
        "print(len(new_texts))\n",
        "\n",
        "sequences = tokenizer.texts_to_sequences(new_texts)\n",
        "X = pad_sequences(sequences, maxlen=maxLen)\n",
        "\n",
        "model.load_weights('model.h5')\n",
        "p = model.predict(X)\n",
        "p = np.where(p>0.5,1,0)"
      ],
      "metadata": {
        "id": "uylKLx0ADOlz"
      },
      "execution_count": null,
      "outputs": []
    },
    {
      "cell_type": "code",
      "source": [
        "submission_csv = pd.read_csv('/content/DSL2122_january_dataset/sample_submission.csv')\n",
        "\n",
        "submission_csv['Predicted'] = p\n",
        "submission_csv.to_csv('submission.csv',index =False)"
      ],
      "metadata": {
        "id": "yQ9RxjqsYee9"
      },
      "execution_count": null,
      "outputs": []
    },
    {
      "cell_type": "code",
      "source": [
        ""
      ],
      "metadata": {
        "id": "mMRFbDWqfHhU"
      },
      "execution_count": null,
      "outputs": []
    }
  ]
}