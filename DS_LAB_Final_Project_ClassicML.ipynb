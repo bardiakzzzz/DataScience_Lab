{
  "cells": [
    {
      "cell_type": "code",
      "execution_count": null,
      "metadata": {
        "id": "NvpA-e-V1ECz"
      },
      "outputs": [],
      "source": [
        "!wget https://dbdmg.polito.it/dbdmg_web/wp-content/uploads/2021/12/DSL2122_january_dataset.zip\n",
        "!unzip DSL2122_january_dataset.zip"
      ]
    },
    {
      "cell_type": "markdown",
      "metadata": {
        "id": "U8GbagIH1R3p"
      },
      "source": [
        "# Import required libraries"
      ]
    },
    {
      "cell_type": "code",
      "execution_count": null,
      "metadata": {
        "id": "HF6Be_1Y1RAb"
      },
      "outputs": [],
      "source": [
        "import numpy as np\n",
        "import pandas as pd\n",
        "from tensorflow.keras.preprocessing.text import Tokenizer\n",
        "from tensorflow.keras.preprocessing.sequence import pad_sequences\n",
        "from tensorflow.keras import utils\n",
        "from sklearn.model_selection import train_test_split\n",
        "from tensorflow import keras\n",
        "import matplotlib.pyplot as plt\n",
        "from sklearn.metrics import classification_report\n",
        "from sklearn.metrics import accuracy_score\n",
        "from sklearn.metrics import classification_report\n",
        "from sklearn.feature_extraction.text import TfidfVectorizer\n",
        "from sklearn.model_selection import ParameterGrid\n",
        "from sklearn.tree import DecisionTreeClassifier\n",
        "from sklearn.svm import LinearSVC\n",
        "from sklearn.neural_network import MLPClassifier"
      ]
    },
    {
      "cell_type": "markdown",
      "metadata": {
        "id": "HJ1EMzDl1abt"
      },
      "source": [
        "# Preview of Dataset"
      ]
    },
    {
      "cell_type": "code",
      "execution_count": null,
      "metadata": {
        "colab": {
          "base_uri": "https://localhost:8080/",
          "height": 424
        },
        "id": "2qUsWY-Z1Y7k",
        "outputId": "50b0d094-a6c3-484f-80db-758f380e3b12"
      },
      "outputs": [
        {
          "output_type": "execute_result",
          "data": {
            "text/html": [
              "\n",
              "  <div id=\"df-8c9a8464-c657-481c-bd07-29bc60a2c310\">\n",
              "    <div class=\"colab-df-container\">\n",
              "      <div>\n",
              "<style scoped>\n",
              "    .dataframe tbody tr th:only-of-type {\n",
              "        vertical-align: middle;\n",
              "    }\n",
              "\n",
              "    .dataframe tbody tr th {\n",
              "        vertical-align: top;\n",
              "    }\n",
              "\n",
              "    .dataframe thead th {\n",
              "        text-align: right;\n",
              "    }\n",
              "</style>\n",
              "<table border=\"1\" class=\"dataframe\">\n",
              "  <thead>\n",
              "    <tr style=\"text-align: right;\">\n",
              "      <th></th>\n",
              "      <th>sentiment</th>\n",
              "      <th>ids</th>\n",
              "      <th>date</th>\n",
              "      <th>flag</th>\n",
              "      <th>user</th>\n",
              "      <th>text</th>\n",
              "    </tr>\n",
              "  </thead>\n",
              "  <tbody>\n",
              "    <tr>\n",
              "      <th>0</th>\n",
              "      <td>1</td>\n",
              "      <td>1833972543</td>\n",
              "      <td>Mon May 18 01:08:27 PDT 2009</td>\n",
              "      <td>NO_QUERY</td>\n",
              "      <td>Killandra</td>\n",
              "      <td>@MissBianca76 Yes, talking helps a lot.. going...</td>\n",
              "    </tr>\n",
              "    <tr>\n",
              "      <th>1</th>\n",
              "      <td>1</td>\n",
              "      <td>1980318193</td>\n",
              "      <td>Sun May 31 06:23:17 PDT 2009</td>\n",
              "      <td>NO_QUERY</td>\n",
              "      <td>IMlisacowan</td>\n",
              "      <td>SUNSHINE. livingg itttt. imma lie on the grass...</td>\n",
              "    </tr>\n",
              "    <tr>\n",
              "      <th>2</th>\n",
              "      <td>1</td>\n",
              "      <td>1994409198</td>\n",
              "      <td>Mon Jun 01 11:52:54 PDT 2009</td>\n",
              "      <td>NO_QUERY</td>\n",
              "      <td>yaseminx3</td>\n",
              "      <td>@PleaseBeMine Something for your iphone</td>\n",
              "    </tr>\n",
              "    <tr>\n",
              "      <th>3</th>\n",
              "      <td>0</td>\n",
              "      <td>1824749377</td>\n",
              "      <td>Sun May 17 02:45:34 PDT 2009</td>\n",
              "      <td>NO_QUERY</td>\n",
              "      <td>no_surprises</td>\n",
              "      <td>@GabrielSaporta couldn't get in to the after p...</td>\n",
              "    </tr>\n",
              "    <tr>\n",
              "      <th>4</th>\n",
              "      <td>0</td>\n",
              "      <td>2001199113</td>\n",
              "      <td>Tue Jun 02 00:08:07 PDT 2009</td>\n",
              "      <td>NO_QUERY</td>\n",
              "      <td>Rhi_ShortStack</td>\n",
              "      <td>@bradiewebbstack awww is andy being mean again...</td>\n",
              "    </tr>\n",
              "    <tr>\n",
              "      <th>...</th>\n",
              "      <td>...</td>\n",
              "      <td>...</td>\n",
              "      <td>...</td>\n",
              "      <td>...</td>\n",
              "      <td>...</td>\n",
              "      <td>...</td>\n",
              "    </tr>\n",
              "    <tr>\n",
              "      <th>224989</th>\n",
              "      <td>0</td>\n",
              "      <td>2261324310</td>\n",
              "      <td>Sat Jun 20 20:36:48 PDT 2009</td>\n",
              "      <td>NO_QUERY</td>\n",
              "      <td>CynthiaBuroughs</td>\n",
              "      <td>@Dropsofreign yeah I hope Iran people reach fr...</td>\n",
              "    </tr>\n",
              "    <tr>\n",
              "      <th>224990</th>\n",
              "      <td>1</td>\n",
              "      <td>1989408152</td>\n",
              "      <td>Mon Jun 01 01:25:45 PDT 2009</td>\n",
              "      <td>NO_QUERY</td>\n",
              "      <td>unitechy</td>\n",
              "      <td>Trying the qwerty keypad</td>\n",
              "    </tr>\n",
              "    <tr>\n",
              "      <th>224991</th>\n",
              "      <td>0</td>\n",
              "      <td>1991221316</td>\n",
              "      <td>Mon Jun 01 06:38:10 PDT 2009</td>\n",
              "      <td>NO_QUERY</td>\n",
              "      <td>Xaan</td>\n",
              "      <td>I love Jasper &amp;amp; Jackson but that wig in th...</td>\n",
              "    </tr>\n",
              "    <tr>\n",
              "      <th>224992</th>\n",
              "      <td>0</td>\n",
              "      <td>2239702807</td>\n",
              "      <td>Fri Jun 19 08:51:56 PDT 2009</td>\n",
              "      <td>NO_QUERY</td>\n",
              "      <td>Ginger_Billie</td>\n",
              "      <td>I am really tired and bored and bleh! I feel c...</td>\n",
              "    </tr>\n",
              "    <tr>\n",
              "      <th>224993</th>\n",
              "      <td>1</td>\n",
              "      <td>2016018811</td>\n",
              "      <td>Wed Jun 03 06:00:29 PDT 2009</td>\n",
              "      <td>NO_QUERY</td>\n",
              "      <td>kevin_choo</td>\n",
              "      <td>@alyshatan good luck!! It sounds interesting t...</td>\n",
              "    </tr>\n",
              "  </tbody>\n",
              "</table>\n",
              "<p>224994 rows × 6 columns</p>\n",
              "</div>\n",
              "      <button class=\"colab-df-convert\" onclick=\"convertToInteractive('df-8c9a8464-c657-481c-bd07-29bc60a2c310')\"\n",
              "              title=\"Convert this dataframe to an interactive table.\"\n",
              "              style=\"display:none;\">\n",
              "        \n",
              "  <svg xmlns=\"http://www.w3.org/2000/svg\" height=\"24px\"viewBox=\"0 0 24 24\"\n",
              "       width=\"24px\">\n",
              "    <path d=\"M0 0h24v24H0V0z\" fill=\"none\"/>\n",
              "    <path d=\"M18.56 5.44l.94 2.06.94-2.06 2.06-.94-2.06-.94-.94-2.06-.94 2.06-2.06.94zm-11 1L8.5 8.5l.94-2.06 2.06-.94-2.06-.94L8.5 2.5l-.94 2.06-2.06.94zm10 10l.94 2.06.94-2.06 2.06-.94-2.06-.94-.94-2.06-.94 2.06-2.06.94z\"/><path d=\"M17.41 7.96l-1.37-1.37c-.4-.4-.92-.59-1.43-.59-.52 0-1.04.2-1.43.59L10.3 9.45l-7.72 7.72c-.78.78-.78 2.05 0 2.83L4 21.41c.39.39.9.59 1.41.59.51 0 1.02-.2 1.41-.59l7.78-7.78 2.81-2.81c.8-.78.8-2.07 0-2.86zM5.41 20L4 18.59l7.72-7.72 1.47 1.35L5.41 20z\"/>\n",
              "  </svg>\n",
              "      </button>\n",
              "      \n",
              "  <style>\n",
              "    .colab-df-container {\n",
              "      display:flex;\n",
              "      flex-wrap:wrap;\n",
              "      gap: 12px;\n",
              "    }\n",
              "\n",
              "    .colab-df-convert {\n",
              "      background-color: #E8F0FE;\n",
              "      border: none;\n",
              "      border-radius: 50%;\n",
              "      cursor: pointer;\n",
              "      display: none;\n",
              "      fill: #1967D2;\n",
              "      height: 32px;\n",
              "      padding: 0 0 0 0;\n",
              "      width: 32px;\n",
              "    }\n",
              "\n",
              "    .colab-df-convert:hover {\n",
              "      background-color: #E2EBFA;\n",
              "      box-shadow: 0px 1px 2px rgba(60, 64, 67, 0.3), 0px 1px 3px 1px rgba(60, 64, 67, 0.15);\n",
              "      fill: #174EA6;\n",
              "    }\n",
              "\n",
              "    [theme=dark] .colab-df-convert {\n",
              "      background-color: #3B4455;\n",
              "      fill: #D2E3FC;\n",
              "    }\n",
              "\n",
              "    [theme=dark] .colab-df-convert:hover {\n",
              "      background-color: #434B5C;\n",
              "      box-shadow: 0px 1px 3px 1px rgba(0, 0, 0, 0.15);\n",
              "      filter: drop-shadow(0px 1px 2px rgba(0, 0, 0, 0.3));\n",
              "      fill: #FFFFFF;\n",
              "    }\n",
              "  </style>\n",
              "\n",
              "      <script>\n",
              "        const buttonEl =\n",
              "          document.querySelector('#df-8c9a8464-c657-481c-bd07-29bc60a2c310 button.colab-df-convert');\n",
              "        buttonEl.style.display =\n",
              "          google.colab.kernel.accessAllowed ? 'block' : 'none';\n",
              "\n",
              "        async function convertToInteractive(key) {\n",
              "          const element = document.querySelector('#df-8c9a8464-c657-481c-bd07-29bc60a2c310');\n",
              "          const dataTable =\n",
              "            await google.colab.kernel.invokeFunction('convertToInteractive',\n",
              "                                                     [key], {});\n",
              "          if (!dataTable) return;\n",
              "\n",
              "          const docLinkHtml = 'Like what you see? Visit the ' +\n",
              "            '<a target=\"_blank\" href=https://colab.research.google.com/notebooks/data_table.ipynb>data table notebook</a>'\n",
              "            + ' to learn more about interactive tables.';\n",
              "          element.innerHTML = '';\n",
              "          dataTable['output_type'] = 'display_data';\n",
              "          await google.colab.output.renderOutput(dataTable, element);\n",
              "          const docLink = document.createElement('div');\n",
              "          docLink.innerHTML = docLinkHtml;\n",
              "          element.appendChild(docLink);\n",
              "        }\n",
              "      </script>\n",
              "    </div>\n",
              "  </div>\n",
              "  "
            ],
            "text/plain": [
              "        sentiment  ...                                               text\n",
              "0               1  ...  @MissBianca76 Yes, talking helps a lot.. going...\n",
              "1               1  ...  SUNSHINE. livingg itttt. imma lie on the grass...\n",
              "2               1  ...           @PleaseBeMine Something for your iphone \n",
              "3               0  ...  @GabrielSaporta couldn't get in to the after p...\n",
              "4               0  ...  @bradiewebbstack awww is andy being mean again...\n",
              "...           ...  ...                                                ...\n",
              "224989          0  ...  @Dropsofreign yeah I hope Iran people reach fr...\n",
              "224990          1  ...                          Trying the qwerty keypad \n",
              "224991          0  ...  I love Jasper &amp; Jackson but that wig in th...\n",
              "224992          0  ...  I am really tired and bored and bleh! I feel c...\n",
              "224993          1  ...  @alyshatan good luck!! It sounds interesting t...\n",
              "\n",
              "[224994 rows x 6 columns]"
            ]
          },
          "metadata": {},
          "execution_count": 3
        }
      ],
      "source": [
        "dataframe = pd.read_csv('/content/DSL2122_january_dataset/development.csv')\n",
        "dataframe"
      ]
    },
    {
      "cell_type": "markdown",
      "metadata": {
        "id": "XkCO7MaKs6QG"
      },
      "source": [
        "# Analyzing Dataset"
      ]
    },
    {
      "cell_type": "code",
      "execution_count": null,
      "metadata": {
        "colab": {
          "base_uri": "https://localhost:8080/"
        },
        "id": "8CzAI4p9s-cX",
        "outputId": "c281f39c-edb8-4d67-8f7a-886bb79e477b"
      },
      "outputs": [
        {
          "output_type": "stream",
          "name": "stdout",
          "text": [
            "<class 'pandas.core.frame.DataFrame'>\n",
            "RangeIndex: 224994 entries, 0 to 224993\n",
            "Data columns (total 6 columns):\n",
            " #   Column     Non-Null Count   Dtype \n",
            "---  ------     --------------   ----- \n",
            " 0   sentiment  224994 non-null  int64 \n",
            " 1   ids        224994 non-null  int64 \n",
            " 2   date       224994 non-null  object\n",
            " 3   flag       224994 non-null  object\n",
            " 4   user       224994 non-null  object\n",
            " 5   text       224994 non-null  object\n",
            "dtypes: int64(2), object(4)\n",
            "memory usage: 10.3+ MB\n"
          ]
        }
      ],
      "source": [
        "dataframe.info()"
      ]
    },
    {
      "cell_type": "markdown",
      "metadata": {
        "id": "fILOFuSDtNaj"
      },
      "source": [
        "We need only Sentiment and Text"
      ]
    },
    {
      "cell_type": "code",
      "execution_count": null,
      "metadata": {
        "colab": {
          "base_uri": "https://localhost:8080/",
          "height": 87
        },
        "id": "CALFgKY-tMb1",
        "outputId": "6ffb054e-844e-4348-e90f-b6bcd283921a"
      },
      "outputs": [
        {
          "output_type": "stream",
          "name": "stdout",
          "text": [
            "@Md8oz that hurt  ã?³ just fucked me harddddd lol\n",
            "@HOTTVampChick here you go  http://bit.ly/qNtRH\n",
            "[-O] Just got off work getting ready to leave for INDPLS 500 mini-marathon. Wish me luck.  http://tinyurl.com/cnn45k\n"
          ]
        },
        {
          "output_type": "execute_result",
          "data": {
            "application/vnd.google.colaboratory.intrinsic+json": {
              "type": "string"
            },
            "text/plain": [
              "' So many cases exist in the dataset like cases above and needs to be cleaned '"
            ]
          },
          "metadata": {},
          "execution_count": 5
        }
      ],
      "source": [
        "\"\"\" Some Examples \"\"\"\n",
        "\n",
        "print(dataframe['text'][63])\n",
        "# In this case one word is Binary(At least it is not english)\n",
        "\n",
        "print(dataframe['text'][51])\n",
        "# In this case we have @id + website\n",
        "\n",
        "print(dataframe['text'][149])\n",
        "# In this case word [-O] is not a word \n",
        "\n",
        "\n",
        "\"\"\" So many cases exist in the dataset like cases above and needs to be cleaned \"\"\""
      ]
    },
    {
      "cell_type": "markdown",
      "metadata": {
        "id": "ygA29CYDQe8t"
      },
      "source": [
        "# Cleaning Data"
      ]
    },
    {
      "cell_type": "code",
      "execution_count": null,
      "metadata": {
        "colab": {
          "base_uri": "https://localhost:8080/"
        },
        "id": "CoMj-gq_xTPn",
        "outputId": "78425efb-7ca9-4d2d-a9c2-677d59298b02"
      },
      "outputs": [
        {
          "output_type": "stream",
          "name": "stdout",
          "text": [
            "[nltk_data] Downloading package stopwords to /root/nltk_data...\n",
            "[nltk_data]   Package stopwords is already up-to-date!\n"
          ]
        },
        {
          "output_type": "stream",
          "name": "stderr",
          "text": [
            "/usr/local/lib/python3.7/dist-packages/ipykernel_launcher.py:17: SettingWithCopyWarning: \n",
            "A value is trying to be set on a copy of a slice from a DataFrame\n",
            "\n",
            "See the caveats in the documentation: https://pandas.pydata.org/pandas-docs/stable/user_guide/indexing.html#returning-a-view-versus-a-copy\n"
          ]
        },
        {
          "output_type": "stream",
          "name": "stdout",
          "text": [
            "224017\n"
          ]
        }
      ],
      "source": [
        "import nltk\n",
        "from nltk.corpus import stopwords\n",
        "nltk.download(\"stopwords\")\n",
        "stop_words = set(stopwords.words(\"english\"))\n",
        "import re \n",
        "noise_chars = ['#','?','!','+','*','{','}',\"|\",'(',')','$','%',';','_','-','~','<','>',',',':','=','[',']','\\\\','\\t','\\n']\n",
        "\n",
        "texts = dataframe['text']\n",
        "sentiments = dataframe['sentiment']\n",
        "\n",
        "new_sentiments = []\n",
        "new_texts = []\n",
        "for i in range(len(texts)):\n",
        "  text = texts[i]\n",
        "  for c in noise_chars:\n",
        "    text = text.replace(c,\"\")\n",
        "  texts[i] = \" \".join([word for word in text.split() if word not in stop_words]).lower()\n",
        "\n",
        "for i in range(len(texts)):\n",
        "  list_of_words = texts[i].split()\n",
        "  list_of_noise = ['@','http','&','^','www']\n",
        "  tmp = []\n",
        "  for word in list_of_words[:]:\n",
        "    if len(word) > 1 :\n",
        "      has_noise = False\n",
        "      for noise in list_of_noise:\n",
        "        if noise in word:\n",
        "          has_noise = True\n",
        "          break\n",
        "      if has_noise == False:\n",
        "        tmp.append(word)\n",
        "  if len(tmp) > 0:\n",
        "    new_tweet = \" \".join(tmp)\n",
        "    new_texts.append(new_tweet)\n",
        "    new_sentiments.append(sentiments[i])\n",
        "\n",
        "print(len(new_texts))"
      ]
    },
    {
      "cell_type": "code",
      "execution_count": null,
      "metadata": {
        "colab": {
          "base_uri": "https://localhost:8080/"
        },
        "id": "guMVe-7G1l04",
        "outputId": "62d08697-8ddd-4a16-b21b-0c50f39862d0"
      },
      "outputs": [
        {
          "output_type": "stream",
          "name": "stdout",
          "text": [
            "Max lenght of a tweet has  320  words\n"
          ]
        }
      ],
      "source": [
        "maxLen = 0\n",
        "for text in new_texts:\n",
        "  if len(text) > maxLen:\n",
        "    maxLen = len(text)\n",
        "\n",
        "print(\"Max lenght of a tweet has \",maxLen,\" words\")"
      ]
    },
    {
      "cell_type": "markdown",
      "metadata": {
        "id": "zPUpPScL8Pmu"
      },
      "source": [
        "# Split Train and Validation"
      ]
    },
    {
      "cell_type": "code",
      "execution_count": null,
      "metadata": {
        "colab": {
          "base_uri": "https://localhost:8080/"
        },
        "id": "gWo9sj38NOtp",
        "outputId": "67d147e8-4632-494a-bc0a-e3b6669d8adb"
      },
      "outputs": [
        {
          "output_type": "stream",
          "name": "stdout",
          "text": [
            "train :  (190414,) (190414,)\n",
            "val :  (33603,) (33603,)\n"
          ]
        }
      ],
      "source": [
        "train_x , val_x, train_y ,val_y = train_test_split(np.array(new_texts),np.array(new_sentiments),test_size = .15,stratify=np.array(new_sentiments))\n",
        "\n",
        "print('train : ',train_x.shape , train_y.shape)\n",
        "print('val : ',val_x.shape,val_y.shape)"
      ]
    },
    {
      "cell_type": "markdown",
      "source": [
        "# Apply tf-idf"
      ],
      "metadata": {
        "id": "iMu6gG5nec-j"
      }
    },
    {
      "cell_type": "code",
      "execution_count": null,
      "metadata": {
        "id": "_CwxrWT8NN42"
      },
      "outputs": [],
      "source": [
        "vectorizer= TfidfVectorizer()\n",
        "tf_x_train = vectorizer.fit_transform(train_x)\n",
        "tf_x_test = vectorizer.transform(val_x)"
      ]
    },
    {
      "cell_type": "markdown",
      "source": [
        "#  Support Vector Machine"
      ],
      "metadata": {
        "id": "SELeyP-DevjZ"
      }
    },
    {
      "cell_type": "code",
      "execution_count": null,
      "metadata": {
        "colab": {
          "base_uri": "https://localhost:8080/"
        },
        "id": "8PCsNdHuNi-p",
        "outputId": "3f2126c2-8a5a-4a43-ed84-8a0975dae0d8"
      },
      "outputs": [
        {
          "output_type": "stream",
          "name": "stdout",
          "text": [
            "              precision    recall  f1-score   support\n",
            "\n",
            "    Negative       0.74      0.69      0.72     14160\n",
            "    Positive       0.79      0.82      0.80     19443\n",
            "\n",
            "    accuracy                           0.77     33603\n",
            "   macro avg       0.76      0.76      0.76     33603\n",
            "weighted avg       0.77      0.77      0.77     33603\n",
            "\n"
          ]
        }
      ],
      "source": [
        "clf = LinearSVC(random_state=1)\n",
        "\n",
        "clf.fit(tf_x_train,train_y)\n",
        "y_test_pred=clf.predict(tf_x_test)\n",
        "target_names = ['Negative', 'Positive']\n",
        "print(classification_report(val_y, y_test_pred, target_names=target_names))"
      ]
    },
    {
      "cell_type": "code",
      "source": [
        "from sklearn.neighbors import KNeighborsClassifier\n",
        "\n",
        "clf = KNeighborsClassifier()\n",
        "clf.fit(tf_x_train,train_y)\n",
        "y_test_pred=clf.predict(tf_x_test)\n",
        "target_names = ['Negative', 'Positive']\n",
        "print(classification_report(val_y, y_test_pred, target_names=target_names))"
      ],
      "metadata": {
        "colab": {
          "base_uri": "https://localhost:8080/"
        },
        "id": "JD1t04Dux9zr",
        "outputId": "21781aec-6afc-42f7-d9b2-0b5cb68f61e7"
      },
      "execution_count": null,
      "outputs": [
        {
          "output_type": "stream",
          "name": "stdout",
          "text": [
            "              precision    recall  f1-score   support\n",
            "\n",
            "    Negative       0.57      0.43      0.49     14160\n",
            "    Positive       0.65      0.76      0.70     19443\n",
            "\n",
            "    accuracy                           0.62     33603\n",
            "   macro avg       0.61      0.60      0.59     33603\n",
            "weighted avg       0.61      0.62      0.61     33603\n",
            "\n"
          ]
        }
      ]
    },
    {
      "cell_type": "markdown",
      "source": [
        "# MLP Classifier"
      ],
      "metadata": {
        "id": "U_PKF-mYfdlQ"
      }
    },
    {
      "cell_type": "code",
      "source": [
        "clf = MLPClassifier(random_state=0,max_iter=100)\n",
        "clf.fit(tf_x_train,train_y)\n",
        "y_test_pred=clf.predict(tf_x_test)\n",
        "target_names = ['Negative', 'Positive']\n",
        "print(classification_report(val_y, y_test_pred, target_names=target_names))"
      ],
      "metadata": {
        "colab": {
          "base_uri": "https://localhost:8080/"
        },
        "id": "4ASvnK8be0eg",
        "outputId": "f36f7973-be9e-4aca-a84e-5a556d11a151"
      },
      "execution_count": null,
      "outputs": [
        {
          "output_type": "stream",
          "name": "stderr",
          "text": [
            "/usr/local/lib/python3.7/dist-packages/sklearn/neural_network/_multilayer_perceptron.py:699: UserWarning: Training interrupted by user.\n",
            "  warnings.warn(\"Training interrupted by user.\")\n"
          ]
        },
        {
          "output_type": "stream",
          "name": "stdout",
          "text": [
            "              precision    recall  f1-score   support\n",
            "\n",
            "    Negative       0.73      0.71      0.72     14160\n",
            "    Positive       0.79      0.80      0.80     19443\n",
            "\n",
            "    accuracy                           0.76     33603\n",
            "   macro avg       0.76      0.76      0.76     33603\n",
            "weighted avg       0.76      0.76      0.76     33603\n",
            "\n"
          ]
        }
      ]
    },
    {
      "cell_type": "markdown",
      "source": [
        "# Decision Tree Classifier"
      ],
      "metadata": {
        "id": "grk4rEOKfy22"
      }
    },
    {
      "cell_type": "code",
      "execution_count": null,
      "metadata": {
        "id": "t7TRcKKeN5Tk",
        "colab": {
          "base_uri": "https://localhost:8080/"
        },
        "outputId": "3293f409-5c0f-47ab-a7aa-3718230caadb"
      },
      "outputs": [
        {
          "output_type": "stream",
          "name": "stdout",
          "text": [
            "0.7035383745498914\n"
          ]
        }
      ],
      "source": [
        "params = {\n",
        "    \"max_depth\": [None, 2, 3, 4, 5],\n",
        "    \"min_impurity_decrease\": [0, .01, .03, .07, .09, .11]\n",
        "}\n",
        "\n",
        "accuracies = []\n",
        "for config in ParameterGrid(params):\n",
        "    clf = DecisionTreeClassifier(**config)\n",
        "    clf.fit(tf_x_train, train_y)\n",
        "    accuracies.append(accuracy_score(val_y, clf.predict(tf_x_test)))\n",
        "print(max(accuracies))"
      ]
    },
    {
      "cell_type": "code",
      "execution_count": null,
      "metadata": {
        "colab": {
          "base_uri": "https://localhost:8080/"
        },
        "id": "IVF1upeHOBUR",
        "outputId": "1b94a61a-8def-49a4-e8af-60aff49c157d"
      },
      "outputs": [
        {
          "output_type": "stream",
          "name": "stdout",
          "text": [
            "              precision    recall  f1-score   support\n",
            "\n",
            "    Negative       0.65      0.64      0.65     14160\n",
            "    Positive       0.74      0.75      0.75     19443\n",
            "\n",
            "    accuracy                           0.70     33603\n",
            "   macro avg       0.70      0.70      0.70     33603\n",
            "weighted avg       0.70      0.70      0.70     33603\n",
            "\n"
          ]
        }
      ],
      "source": [
        "best_config = list(ParameterGrid(params))[np.argmax(accuracies)]\n",
        "clf = DecisionTreeClassifier(**best_config)\n",
        "clf.fit(tf_x_train, train_y)\n",
        "print(classification_report(val_y, clf.predict(tf_x_test), target_names=target_names))"
      ]
    },
    {
      "cell_type": "markdown",
      "source": [
        "# Random Forest Classifier"
      ],
      "metadata": {
        "id": "CKr2l-Zpf5mK"
      }
    },
    {
      "cell_type": "code",
      "source": [
        "from scipy.stats import mode\n",
        "\n",
        "class MyRandomForestClassifier:\n",
        "    def __init__(self, n_estimators=10, max_features='sqrt'):\n",
        "        self.trees = [ DecisionTreeClassifier(max_features=max_features)\\\n",
        "                       for _ in range(n_estimators) ]\n",
        "    \n",
        "    def fit(self, X, y):\n",
        "        for tree in self.trees:\n",
        "            subset = np.random.choice(range(X.shape[0]),\\\n",
        "                                      size=X.shape[0],\\\n",
        "                                      replace=True)\n",
        "            tree.fit(X[subset], y[subset])\n",
        "    \n",
        "    def predict(self, X):\n",
        "        # get predictions of all trees for X \n",
        "        predictions = [ tree.predict(X) for tree in self.trees ] \n",
        "        return mode(predictions, axis=0)[0][0]"
      ],
      "metadata": {
        "id": "TiW0Vs9MhwN6"
      },
      "execution_count": null,
      "outputs": []
    },
    {
      "cell_type": "code",
      "execution_count": null,
      "metadata": {
        "id": "TGe3hHQ4OFud",
        "colab": {
          "base_uri": "https://localhost:8080/"
        },
        "outputId": "fa39b72e-09c5-404b-83dd-93e3b946a856"
      },
      "outputs": [
        {
          "output_type": "stream",
          "name": "stdout",
          "text": [
            "              precision    recall  f1-score   support\n",
            "\n",
            "    Negative       0.67      0.69      0.68     14160\n",
            "    Positive       0.77      0.75      0.76     19443\n",
            "\n",
            "    accuracy                           0.73     33603\n",
            "   macro avg       0.72      0.72      0.72     33603\n",
            "weighted avg       0.73      0.73      0.73     33603\n",
            "\n"
          ]
        }
      ],
      "source": [
        "clf = MyRandomForestClassifier(10, 28)\n",
        "clf.fit(tf_x_train,train_y)\n",
        "y_test_pred=clf.predict(tf_x_test)\n",
        "target_names = ['Negative', 'Positive']\n",
        "print(classification_report(val_y, y_test_pred, target_names=target_names))"
      ]
    },
    {
      "cell_type": "code",
      "source": [
        ""
      ],
      "metadata": {
        "id": "i6Jsmup6oXPn"
      },
      "execution_count": null,
      "outputs": []
    }
  ],
  "metadata": {
    "colab": {
      "name": "DS_LAB_Final_Project_ClassicML.ipynb",
      "provenance": [],
      "collapsed_sections": []
    },
    "kernelspec": {
      "display_name": "Python 3",
      "name": "python3"
    },
    "language_info": {
      "name": "python"
    }
  },
  "nbformat": 4,
  "nbformat_minor": 0
}