{
  "nbformat": 4,
  "nbformat_minor": 0,
  "metadata": {
    "colab": {
      "name": "DS_LAB_Final_Project.ipynb",
      "provenance": [],
      "collapsed_sections": []
    },
    "kernelspec": {
      "name": "python3",
      "display_name": "Python 3"
    },
    "language_info": {
      "name": "python"
    },
    "accelerator": "TPU",
    "widgets": {
      "application/vnd.jupyter.widget-state+json": {
        "d5704fa271524374bcf212780456f17d": {
          "model_module": "@jupyter-widgets/controls",
          "model_name": "HBoxModel",
          "model_module_version": "1.5.0",
          "state": {
            "_view_name": "HBoxView",
            "_dom_classes": [],
            "_model_name": "HBoxModel",
            "_view_module": "@jupyter-widgets/controls",
            "_model_module_version": "1.5.0",
            "_view_count": null,
            "_view_module_version": "1.5.0",
            "box_style": "",
            "layout": "IPY_MODEL_801970568e204015b46b44d0fd2d229d",
            "_model_module": "@jupyter-widgets/controls",
            "children": [
              "IPY_MODEL_44543aebc12342a5822fb1877f0e0baf",
              "IPY_MODEL_51166507feba4708ac4285de9faa69a2",
              "IPY_MODEL_a7c8eee79f6447d898dea28eb1a54b2e"
            ]
          }
        },
        "801970568e204015b46b44d0fd2d229d": {
          "model_module": "@jupyter-widgets/base",
          "model_name": "LayoutModel",
          "model_module_version": "1.2.0",
          "state": {
            "_view_name": "LayoutView",
            "grid_template_rows": null,
            "right": null,
            "justify_content": null,
            "_view_module": "@jupyter-widgets/base",
            "overflow": null,
            "_model_module_version": "1.2.0",
            "_view_count": null,
            "flex_flow": null,
            "width": null,
            "min_width": null,
            "border": null,
            "align_items": null,
            "bottom": null,
            "_model_module": "@jupyter-widgets/base",
            "top": null,
            "grid_column": null,
            "overflow_y": null,
            "overflow_x": null,
            "grid_auto_flow": null,
            "grid_area": null,
            "grid_template_columns": null,
            "flex": null,
            "_model_name": "LayoutModel",
            "justify_items": null,
            "grid_row": null,
            "max_height": null,
            "align_content": null,
            "visibility": null,
            "align_self": null,
            "height": null,
            "min_height": null,
            "padding": null,
            "grid_auto_rows": null,
            "grid_gap": null,
            "max_width": null,
            "order": null,
            "_view_module_version": "1.2.0",
            "grid_template_areas": null,
            "object_position": null,
            "object_fit": null,
            "grid_auto_columns": null,
            "margin": null,
            "display": null,
            "left": null
          }
        },
        "44543aebc12342a5822fb1877f0e0baf": {
          "model_module": "@jupyter-widgets/controls",
          "model_name": "HTMLModel",
          "model_module_version": "1.5.0",
          "state": {
            "_view_name": "HTMLView",
            "style": "IPY_MODEL_ac9088d82ab94f7cbe9bdf0c0be70304",
            "_dom_classes": [],
            "description": "",
            "_model_name": "HTMLModel",
            "placeholder": "​",
            "_view_module": "@jupyter-widgets/controls",
            "_model_module_version": "1.5.0",
            "value": "Downloading: 100%",
            "_view_count": null,
            "_view_module_version": "1.5.0",
            "description_tooltip": null,
            "_model_module": "@jupyter-widgets/controls",
            "layout": "IPY_MODEL_72493ed3b1354f1285fc924001ce8413"
          }
        },
        "51166507feba4708ac4285de9faa69a2": {
          "model_module": "@jupyter-widgets/controls",
          "model_name": "FloatProgressModel",
          "model_module_version": "1.5.0",
          "state": {
            "_view_name": "ProgressView",
            "style": "IPY_MODEL_8921f79856364cfb9b01f9b110984453",
            "_dom_classes": [],
            "description": "",
            "_model_name": "FloatProgressModel",
            "bar_style": "success",
            "max": 570,
            "_view_module": "@jupyter-widgets/controls",
            "_model_module_version": "1.5.0",
            "value": 570,
            "_view_count": null,
            "_view_module_version": "1.5.0",
            "orientation": "horizontal",
            "min": 0,
            "description_tooltip": null,
            "_model_module": "@jupyter-widgets/controls",
            "layout": "IPY_MODEL_d4a6058d30344211b28eb73598490360"
          }
        },
        "a7c8eee79f6447d898dea28eb1a54b2e": {
          "model_module": "@jupyter-widgets/controls",
          "model_name": "HTMLModel",
          "model_module_version": "1.5.0",
          "state": {
            "_view_name": "HTMLView",
            "style": "IPY_MODEL_e76b9f4349264f63845857fd51e4e9e2",
            "_dom_classes": [],
            "description": "",
            "_model_name": "HTMLModel",
            "placeholder": "​",
            "_view_module": "@jupyter-widgets/controls",
            "_model_module_version": "1.5.0",
            "value": " 570/570 [00:00&lt;00:00, 10.4kB/s]",
            "_view_count": null,
            "_view_module_version": "1.5.0",
            "description_tooltip": null,
            "_model_module": "@jupyter-widgets/controls",
            "layout": "IPY_MODEL_8efc486773534af9b6fd0d0746b88c57"
          }
        },
        "ac9088d82ab94f7cbe9bdf0c0be70304": {
          "model_module": "@jupyter-widgets/controls",
          "model_name": "DescriptionStyleModel",
          "model_module_version": "1.5.0",
          "state": {
            "_view_name": "StyleView",
            "_model_name": "DescriptionStyleModel",
            "description_width": "",
            "_view_module": "@jupyter-widgets/base",
            "_model_module_version": "1.5.0",
            "_view_count": null,
            "_view_module_version": "1.2.0",
            "_model_module": "@jupyter-widgets/controls"
          }
        },
        "72493ed3b1354f1285fc924001ce8413": {
          "model_module": "@jupyter-widgets/base",
          "model_name": "LayoutModel",
          "model_module_version": "1.2.0",
          "state": {
            "_view_name": "LayoutView",
            "grid_template_rows": null,
            "right": null,
            "justify_content": null,
            "_view_module": "@jupyter-widgets/base",
            "overflow": null,
            "_model_module_version": "1.2.0",
            "_view_count": null,
            "flex_flow": null,
            "width": null,
            "min_width": null,
            "border": null,
            "align_items": null,
            "bottom": null,
            "_model_module": "@jupyter-widgets/base",
            "top": null,
            "grid_column": null,
            "overflow_y": null,
            "overflow_x": null,
            "grid_auto_flow": null,
            "grid_area": null,
            "grid_template_columns": null,
            "flex": null,
            "_model_name": "LayoutModel",
            "justify_items": null,
            "grid_row": null,
            "max_height": null,
            "align_content": null,
            "visibility": null,
            "align_self": null,
            "height": null,
            "min_height": null,
            "padding": null,
            "grid_auto_rows": null,
            "grid_gap": null,
            "max_width": null,
            "order": null,
            "_view_module_version": "1.2.0",
            "grid_template_areas": null,
            "object_position": null,
            "object_fit": null,
            "grid_auto_columns": null,
            "margin": null,
            "display": null,
            "left": null
          }
        },
        "8921f79856364cfb9b01f9b110984453": {
          "model_module": "@jupyter-widgets/controls",
          "model_name": "ProgressStyleModel",
          "model_module_version": "1.5.0",
          "state": {
            "_view_name": "StyleView",
            "_model_name": "ProgressStyleModel",
            "description_width": "",
            "_view_module": "@jupyter-widgets/base",
            "_model_module_version": "1.5.0",
            "_view_count": null,
            "_view_module_version": "1.2.0",
            "bar_color": null,
            "_model_module": "@jupyter-widgets/controls"
          }
        },
        "d4a6058d30344211b28eb73598490360": {
          "model_module": "@jupyter-widgets/base",
          "model_name": "LayoutModel",
          "model_module_version": "1.2.0",
          "state": {
            "_view_name": "LayoutView",
            "grid_template_rows": null,
            "right": null,
            "justify_content": null,
            "_view_module": "@jupyter-widgets/base",
            "overflow": null,
            "_model_module_version": "1.2.0",
            "_view_count": null,
            "flex_flow": null,
            "width": null,
            "min_width": null,
            "border": null,
            "align_items": null,
            "bottom": null,
            "_model_module": "@jupyter-widgets/base",
            "top": null,
            "grid_column": null,
            "overflow_y": null,
            "overflow_x": null,
            "grid_auto_flow": null,
            "grid_area": null,
            "grid_template_columns": null,
            "flex": null,
            "_model_name": "LayoutModel",
            "justify_items": null,
            "grid_row": null,
            "max_height": null,
            "align_content": null,
            "visibility": null,
            "align_self": null,
            "height": null,
            "min_height": null,
            "padding": null,
            "grid_auto_rows": null,
            "grid_gap": null,
            "max_width": null,
            "order": null,
            "_view_module_version": "1.2.0",
            "grid_template_areas": null,
            "object_position": null,
            "object_fit": null,
            "grid_auto_columns": null,
            "margin": null,
            "display": null,
            "left": null
          }
        },
        "e76b9f4349264f63845857fd51e4e9e2": {
          "model_module": "@jupyter-widgets/controls",
          "model_name": "DescriptionStyleModel",
          "model_module_version": "1.5.0",
          "state": {
            "_view_name": "StyleView",
            "_model_name": "DescriptionStyleModel",
            "description_width": "",
            "_view_module": "@jupyter-widgets/base",
            "_model_module_version": "1.5.0",
            "_view_count": null,
            "_view_module_version": "1.2.0",
            "_model_module": "@jupyter-widgets/controls"
          }
        },
        "8efc486773534af9b6fd0d0746b88c57": {
          "model_module": "@jupyter-widgets/base",
          "model_name": "LayoutModel",
          "model_module_version": "1.2.0",
          "state": {
            "_view_name": "LayoutView",
            "grid_template_rows": null,
            "right": null,
            "justify_content": null,
            "_view_module": "@jupyter-widgets/base",
            "overflow": null,
            "_model_module_version": "1.2.0",
            "_view_count": null,
            "flex_flow": null,
            "width": null,
            "min_width": null,
            "border": null,
            "align_items": null,
            "bottom": null,
            "_model_module": "@jupyter-widgets/base",
            "top": null,
            "grid_column": null,
            "overflow_y": null,
            "overflow_x": null,
            "grid_auto_flow": null,
            "grid_area": null,
            "grid_template_columns": null,
            "flex": null,
            "_model_name": "LayoutModel",
            "justify_items": null,
            "grid_row": null,
            "max_height": null,
            "align_content": null,
            "visibility": null,
            "align_self": null,
            "height": null,
            "min_height": null,
            "padding": null,
            "grid_auto_rows": null,
            "grid_gap": null,
            "max_width": null,
            "order": null,
            "_view_module_version": "1.2.0",
            "grid_template_areas": null,
            "object_position": null,
            "object_fit": null,
            "grid_auto_columns": null,
            "margin": null,
            "display": null,
            "left": null
          }
        },
        "d937e91043344affb9cbdd5329899b8d": {
          "model_module": "@jupyter-widgets/controls",
          "model_name": "HBoxModel",
          "model_module_version": "1.5.0",
          "state": {
            "_view_name": "HBoxView",
            "_dom_classes": [],
            "_model_name": "HBoxModel",
            "_view_module": "@jupyter-widgets/controls",
            "_model_module_version": "1.5.0",
            "_view_count": null,
            "_view_module_version": "1.5.0",
            "box_style": "",
            "layout": "IPY_MODEL_523ac2e87329446bbc4ff4e7b82aa939",
            "_model_module": "@jupyter-widgets/controls",
            "children": [
              "IPY_MODEL_2929ba76bada48f4b7a267ec48c8bc78",
              "IPY_MODEL_f2530c6185b340838dda851c46dda7af",
              "IPY_MODEL_fc08c3674d5c46efb4e4ab48794bda2c"
            ]
          }
        },
        "523ac2e87329446bbc4ff4e7b82aa939": {
          "model_module": "@jupyter-widgets/base",
          "model_name": "LayoutModel",
          "model_module_version": "1.2.0",
          "state": {
            "_view_name": "LayoutView",
            "grid_template_rows": null,
            "right": null,
            "justify_content": null,
            "_view_module": "@jupyter-widgets/base",
            "overflow": null,
            "_model_module_version": "1.2.0",
            "_view_count": null,
            "flex_flow": null,
            "width": null,
            "min_width": null,
            "border": null,
            "align_items": null,
            "bottom": null,
            "_model_module": "@jupyter-widgets/base",
            "top": null,
            "grid_column": null,
            "overflow_y": null,
            "overflow_x": null,
            "grid_auto_flow": null,
            "grid_area": null,
            "grid_template_columns": null,
            "flex": null,
            "_model_name": "LayoutModel",
            "justify_items": null,
            "grid_row": null,
            "max_height": null,
            "align_content": null,
            "visibility": null,
            "align_self": null,
            "height": null,
            "min_height": null,
            "padding": null,
            "grid_auto_rows": null,
            "grid_gap": null,
            "max_width": null,
            "order": null,
            "_view_module_version": "1.2.0",
            "grid_template_areas": null,
            "object_position": null,
            "object_fit": null,
            "grid_auto_columns": null,
            "margin": null,
            "display": null,
            "left": null
          }
        },
        "2929ba76bada48f4b7a267ec48c8bc78": {
          "model_module": "@jupyter-widgets/controls",
          "model_name": "HTMLModel",
          "model_module_version": "1.5.0",
          "state": {
            "_view_name": "HTMLView",
            "style": "IPY_MODEL_0f6334be06874ecc850efd20bfb24e11",
            "_dom_classes": [],
            "description": "",
            "_model_name": "HTMLModel",
            "placeholder": "​",
            "_view_module": "@jupyter-widgets/controls",
            "_model_module_version": "1.5.0",
            "value": "Downloading: 100%",
            "_view_count": null,
            "_view_module_version": "1.5.0",
            "description_tooltip": null,
            "_model_module": "@jupyter-widgets/controls",
            "layout": "IPY_MODEL_6ba99158a3c04754bcb06c9d122a1c0d"
          }
        },
        "f2530c6185b340838dda851c46dda7af": {
          "model_module": "@jupyter-widgets/controls",
          "model_name": "FloatProgressModel",
          "model_module_version": "1.5.0",
          "state": {
            "_view_name": "ProgressView",
            "style": "IPY_MODEL_a3861b76621443b994f2a4d954f5c3bc",
            "_dom_classes": [],
            "description": "",
            "_model_name": "FloatProgressModel",
            "bar_style": "success",
            "max": 536063208,
            "_view_module": "@jupyter-widgets/controls",
            "_model_module_version": "1.5.0",
            "value": 536063208,
            "_view_count": null,
            "_view_module_version": "1.5.0",
            "orientation": "horizontal",
            "min": 0,
            "description_tooltip": null,
            "_model_module": "@jupyter-widgets/controls",
            "layout": "IPY_MODEL_6444a4370c9141f3b884ff4d8dbe657b"
          }
        },
        "fc08c3674d5c46efb4e4ab48794bda2c": {
          "model_module": "@jupyter-widgets/controls",
          "model_name": "HTMLModel",
          "model_module_version": "1.5.0",
          "state": {
            "_view_name": "HTMLView",
            "style": "IPY_MODEL_d1faaddae1e3411099d9ff05da8f1f28",
            "_dom_classes": [],
            "description": "",
            "_model_name": "HTMLModel",
            "placeholder": "​",
            "_view_module": "@jupyter-widgets/controls",
            "_model_module_version": "1.5.0",
            "value": " 511M/511M [00:16&lt;00:00, 38.9MB/s]",
            "_view_count": null,
            "_view_module_version": "1.5.0",
            "description_tooltip": null,
            "_model_module": "@jupyter-widgets/controls",
            "layout": "IPY_MODEL_e509de837f8646ce9fbbc024647ce6d3"
          }
        },
        "0f6334be06874ecc850efd20bfb24e11": {
          "model_module": "@jupyter-widgets/controls",
          "model_name": "DescriptionStyleModel",
          "model_module_version": "1.5.0",
          "state": {
            "_view_name": "StyleView",
            "_model_name": "DescriptionStyleModel",
            "description_width": "",
            "_view_module": "@jupyter-widgets/base",
            "_model_module_version": "1.5.0",
            "_view_count": null,
            "_view_module_version": "1.2.0",
            "_model_module": "@jupyter-widgets/controls"
          }
        },
        "6ba99158a3c04754bcb06c9d122a1c0d": {
          "model_module": "@jupyter-widgets/base",
          "model_name": "LayoutModel",
          "model_module_version": "1.2.0",
          "state": {
            "_view_name": "LayoutView",
            "grid_template_rows": null,
            "right": null,
            "justify_content": null,
            "_view_module": "@jupyter-widgets/base",
            "overflow": null,
            "_model_module_version": "1.2.0",
            "_view_count": null,
            "flex_flow": null,
            "width": null,
            "min_width": null,
            "border": null,
            "align_items": null,
            "bottom": null,
            "_model_module": "@jupyter-widgets/base",
            "top": null,
            "grid_column": null,
            "overflow_y": null,
            "overflow_x": null,
            "grid_auto_flow": null,
            "grid_area": null,
            "grid_template_columns": null,
            "flex": null,
            "_model_name": "LayoutModel",
            "justify_items": null,
            "grid_row": null,
            "max_height": null,
            "align_content": null,
            "visibility": null,
            "align_self": null,
            "height": null,
            "min_height": null,
            "padding": null,
            "grid_auto_rows": null,
            "grid_gap": null,
            "max_width": null,
            "order": null,
            "_view_module_version": "1.2.0",
            "grid_template_areas": null,
            "object_position": null,
            "object_fit": null,
            "grid_auto_columns": null,
            "margin": null,
            "display": null,
            "left": null
          }
        },
        "a3861b76621443b994f2a4d954f5c3bc": {
          "model_module": "@jupyter-widgets/controls",
          "model_name": "ProgressStyleModel",
          "model_module_version": "1.5.0",
          "state": {
            "_view_name": "StyleView",
            "_model_name": "ProgressStyleModel",
            "description_width": "",
            "_view_module": "@jupyter-widgets/base",
            "_model_module_version": "1.5.0",
            "_view_count": null,
            "_view_module_version": "1.2.0",
            "bar_color": null,
            "_model_module": "@jupyter-widgets/controls"
          }
        },
        "6444a4370c9141f3b884ff4d8dbe657b": {
          "model_module": "@jupyter-widgets/base",
          "model_name": "LayoutModel",
          "model_module_version": "1.2.0",
          "state": {
            "_view_name": "LayoutView",
            "grid_template_rows": null,
            "right": null,
            "justify_content": null,
            "_view_module": "@jupyter-widgets/base",
            "overflow": null,
            "_model_module_version": "1.2.0",
            "_view_count": null,
            "flex_flow": null,
            "width": null,
            "min_width": null,
            "border": null,
            "align_items": null,
            "bottom": null,
            "_model_module": "@jupyter-widgets/base",
            "top": null,
            "grid_column": null,
            "overflow_y": null,
            "overflow_x": null,
            "grid_auto_flow": null,
            "grid_area": null,
            "grid_template_columns": null,
            "flex": null,
            "_model_name": "LayoutModel",
            "justify_items": null,
            "grid_row": null,
            "max_height": null,
            "align_content": null,
            "visibility": null,
            "align_self": null,
            "height": null,
            "min_height": null,
            "padding": null,
            "grid_auto_rows": null,
            "grid_gap": null,
            "max_width": null,
            "order": null,
            "_view_module_version": "1.2.0",
            "grid_template_areas": null,
            "object_position": null,
            "object_fit": null,
            "grid_auto_columns": null,
            "margin": null,
            "display": null,
            "left": null
          }
        },
        "d1faaddae1e3411099d9ff05da8f1f28": {
          "model_module": "@jupyter-widgets/controls",
          "model_name": "DescriptionStyleModel",
          "model_module_version": "1.5.0",
          "state": {
            "_view_name": "StyleView",
            "_model_name": "DescriptionStyleModel",
            "description_width": "",
            "_view_module": "@jupyter-widgets/base",
            "_model_module_version": "1.5.0",
            "_view_count": null,
            "_view_module_version": "1.2.0",
            "_model_module": "@jupyter-widgets/controls"
          }
        },
        "e509de837f8646ce9fbbc024647ce6d3": {
          "model_module": "@jupyter-widgets/base",
          "model_name": "LayoutModel",
          "model_module_version": "1.2.0",
          "state": {
            "_view_name": "LayoutView",
            "grid_template_rows": null,
            "right": null,
            "justify_content": null,
            "_view_module": "@jupyter-widgets/base",
            "overflow": null,
            "_model_module_version": "1.2.0",
            "_view_count": null,
            "flex_flow": null,
            "width": null,
            "min_width": null,
            "border": null,
            "align_items": null,
            "bottom": null,
            "_model_module": "@jupyter-widgets/base",
            "top": null,
            "grid_column": null,
            "overflow_y": null,
            "overflow_x": null,
            "grid_auto_flow": null,
            "grid_area": null,
            "grid_template_columns": null,
            "flex": null,
            "_model_name": "LayoutModel",
            "justify_items": null,
            "grid_row": null,
            "max_height": null,
            "align_content": null,
            "visibility": null,
            "align_self": null,
            "height": null,
            "min_height": null,
            "padding": null,
            "grid_auto_rows": null,
            "grid_gap": null,
            "max_width": null,
            "order": null,
            "_view_module_version": "1.2.0",
            "grid_template_areas": null,
            "object_position": null,
            "object_fit": null,
            "grid_auto_columns": null,
            "margin": null,
            "display": null,
            "left": null
          }
        }
      }
    }
  },
  "cells": [
    {
      "cell_type": "markdown",
      "source": [
        "In this note book we share our best results on text sentiment analysis on Tweets collected from approximately 10k users\n",
        "\n",
        "---\n",
        "We used regex and numpy and sklearn for Preprocessing \\\\\n",
        "We mainly used Tensorflow and Keras and transformers for building our model and training process \\\\ \n",
        "For fast training this paper should be executed on TPU(google colab or etc)\n"
      ],
      "metadata": {
        "id": "fHKpae0nWT2J"
      }
    },
    {
      "cell_type": "markdown",
      "source": [
        "# Get Dataset"
      ],
      "metadata": {
        "id": "OM9CBkET1IRC"
      }
    },
    {
      "cell_type": "code",
      "execution_count": null,
      "metadata": {
        "id": "NvpA-e-V1ECz"
      },
      "outputs": [],
      "source": [
        "!wget https://dbdmg.polito.it/dbdmg_web/wp-content/uploads/2021/12/DSL2122_january_dataset.zip\n",
        "!unzip DSL2122_january_dataset.zip"
      ]
    },
    {
      "cell_type": "markdown",
      "source": [
        "# Import required libraries"
      ],
      "metadata": {
        "id": "U8GbagIH1R3p"
      }
    },
    {
      "cell_type": "code",
      "source": [
        "import numpy as np\n",
        "import pandas as pd\n",
        "from tensorflow.keras.preprocessing.text import Tokenizer\n",
        "from tensorflow.keras.preprocessing.sequence import pad_sequences\n",
        "from tensorflow.keras import utils\n",
        "from sklearn.model_selection import train_test_split\n",
        "from tensorflow import keras\n",
        "import matplotlib.pyplot as plt\n",
        "from sklearn.metrics import classification_report\n",
        "import re\n",
        "!pip install transformers\n",
        "from transformers import BertTokenizer, TFBertModel, BertConfig\n",
        "!wget --quiet https://raw.githubusercontent.com/tensorflow/models/master/official/nlp/bert/tokenization.py\n",
        "import tensorflow_hub as hub\n",
        "!pip install sentencepiece\n",
        "import tokenization\n",
        "import tensorflow as tf\n",
        "import os"
      ],
      "metadata": {
        "id": "HF6Be_1Y1RAb"
      },
      "execution_count": null,
      "outputs": []
    },
    {
      "cell_type": "markdown",
      "source": [
        "# Preview of Dataset"
      ],
      "metadata": {
        "id": "HJ1EMzDl1abt"
      }
    },
    {
      "cell_type": "code",
      "source": [
        "dataframe = pd.read_csv('/content/DSL2122_january_dataset/development.csv')\n",
        "dataframe"
      ],
      "metadata": {
        "colab": {
          "base_uri": "https://localhost:8080/",
          "height": 424
        },
        "id": "2qUsWY-Z1Y7k",
        "outputId": "7038a2ad-91e5-472f-cc9a-f147ca7cfe13"
      },
      "execution_count": 3,
      "outputs": [
        {
          "output_type": "execute_result",
          "data": {
            "text/html": [
              "\n",
              "  <div id=\"df-b84da20f-910c-4aa4-b964-760328b77c62\">\n",
              "    <div class=\"colab-df-container\">\n",
              "      <div>\n",
              "<style scoped>\n",
              "    .dataframe tbody tr th:only-of-type {\n",
              "        vertical-align: middle;\n",
              "    }\n",
              "\n",
              "    .dataframe tbody tr th {\n",
              "        vertical-align: top;\n",
              "    }\n",
              "\n",
              "    .dataframe thead th {\n",
              "        text-align: right;\n",
              "    }\n",
              "</style>\n",
              "<table border=\"1\" class=\"dataframe\">\n",
              "  <thead>\n",
              "    <tr style=\"text-align: right;\">\n",
              "      <th></th>\n",
              "      <th>sentiment</th>\n",
              "      <th>ids</th>\n",
              "      <th>date</th>\n",
              "      <th>flag</th>\n",
              "      <th>user</th>\n",
              "      <th>text</th>\n",
              "    </tr>\n",
              "  </thead>\n",
              "  <tbody>\n",
              "    <tr>\n",
              "      <th>0</th>\n",
              "      <td>1</td>\n",
              "      <td>1833972543</td>\n",
              "      <td>Mon May 18 01:08:27 PDT 2009</td>\n",
              "      <td>NO_QUERY</td>\n",
              "      <td>Killandra</td>\n",
              "      <td>@MissBianca76 Yes, talking helps a lot.. going...</td>\n",
              "    </tr>\n",
              "    <tr>\n",
              "      <th>1</th>\n",
              "      <td>1</td>\n",
              "      <td>1980318193</td>\n",
              "      <td>Sun May 31 06:23:17 PDT 2009</td>\n",
              "      <td>NO_QUERY</td>\n",
              "      <td>IMlisacowan</td>\n",
              "      <td>SUNSHINE. livingg itttt. imma lie on the grass...</td>\n",
              "    </tr>\n",
              "    <tr>\n",
              "      <th>2</th>\n",
              "      <td>1</td>\n",
              "      <td>1994409198</td>\n",
              "      <td>Mon Jun 01 11:52:54 PDT 2009</td>\n",
              "      <td>NO_QUERY</td>\n",
              "      <td>yaseminx3</td>\n",
              "      <td>@PleaseBeMine Something for your iphone</td>\n",
              "    </tr>\n",
              "    <tr>\n",
              "      <th>3</th>\n",
              "      <td>0</td>\n",
              "      <td>1824749377</td>\n",
              "      <td>Sun May 17 02:45:34 PDT 2009</td>\n",
              "      <td>NO_QUERY</td>\n",
              "      <td>no_surprises</td>\n",
              "      <td>@GabrielSaporta couldn't get in to the after p...</td>\n",
              "    </tr>\n",
              "    <tr>\n",
              "      <th>4</th>\n",
              "      <td>0</td>\n",
              "      <td>2001199113</td>\n",
              "      <td>Tue Jun 02 00:08:07 PDT 2009</td>\n",
              "      <td>NO_QUERY</td>\n",
              "      <td>Rhi_ShortStack</td>\n",
              "      <td>@bradiewebbstack awww is andy being mean again...</td>\n",
              "    </tr>\n",
              "    <tr>\n",
              "      <th>...</th>\n",
              "      <td>...</td>\n",
              "      <td>...</td>\n",
              "      <td>...</td>\n",
              "      <td>...</td>\n",
              "      <td>...</td>\n",
              "      <td>...</td>\n",
              "    </tr>\n",
              "    <tr>\n",
              "      <th>224989</th>\n",
              "      <td>0</td>\n",
              "      <td>2261324310</td>\n",
              "      <td>Sat Jun 20 20:36:48 PDT 2009</td>\n",
              "      <td>NO_QUERY</td>\n",
              "      <td>CynthiaBuroughs</td>\n",
              "      <td>@Dropsofreign yeah I hope Iran people reach fr...</td>\n",
              "    </tr>\n",
              "    <tr>\n",
              "      <th>224990</th>\n",
              "      <td>1</td>\n",
              "      <td>1989408152</td>\n",
              "      <td>Mon Jun 01 01:25:45 PDT 2009</td>\n",
              "      <td>NO_QUERY</td>\n",
              "      <td>unitechy</td>\n",
              "      <td>Trying the qwerty keypad</td>\n",
              "    </tr>\n",
              "    <tr>\n",
              "      <th>224991</th>\n",
              "      <td>0</td>\n",
              "      <td>1991221316</td>\n",
              "      <td>Mon Jun 01 06:38:10 PDT 2009</td>\n",
              "      <td>NO_QUERY</td>\n",
              "      <td>Xaan</td>\n",
              "      <td>I love Jasper &amp;amp; Jackson but that wig in th...</td>\n",
              "    </tr>\n",
              "    <tr>\n",
              "      <th>224992</th>\n",
              "      <td>0</td>\n",
              "      <td>2239702807</td>\n",
              "      <td>Fri Jun 19 08:51:56 PDT 2009</td>\n",
              "      <td>NO_QUERY</td>\n",
              "      <td>Ginger_Billie</td>\n",
              "      <td>I am really tired and bored and bleh! I feel c...</td>\n",
              "    </tr>\n",
              "    <tr>\n",
              "      <th>224993</th>\n",
              "      <td>1</td>\n",
              "      <td>2016018811</td>\n",
              "      <td>Wed Jun 03 06:00:29 PDT 2009</td>\n",
              "      <td>NO_QUERY</td>\n",
              "      <td>kevin_choo</td>\n",
              "      <td>@alyshatan good luck!! It sounds interesting t...</td>\n",
              "    </tr>\n",
              "  </tbody>\n",
              "</table>\n",
              "<p>224994 rows × 6 columns</p>\n",
              "</div>\n",
              "      <button class=\"colab-df-convert\" onclick=\"convertToInteractive('df-b84da20f-910c-4aa4-b964-760328b77c62')\"\n",
              "              title=\"Convert this dataframe to an interactive table.\"\n",
              "              style=\"display:none;\">\n",
              "        \n",
              "  <svg xmlns=\"http://www.w3.org/2000/svg\" height=\"24px\"viewBox=\"0 0 24 24\"\n",
              "       width=\"24px\">\n",
              "    <path d=\"M0 0h24v24H0V0z\" fill=\"none\"/>\n",
              "    <path d=\"M18.56 5.44l.94 2.06.94-2.06 2.06-.94-2.06-.94-.94-2.06-.94 2.06-2.06.94zm-11 1L8.5 8.5l.94-2.06 2.06-.94-2.06-.94L8.5 2.5l-.94 2.06-2.06.94zm10 10l.94 2.06.94-2.06 2.06-.94-2.06-.94-.94-2.06-.94 2.06-2.06.94z\"/><path d=\"M17.41 7.96l-1.37-1.37c-.4-.4-.92-.59-1.43-.59-.52 0-1.04.2-1.43.59L10.3 9.45l-7.72 7.72c-.78.78-.78 2.05 0 2.83L4 21.41c.39.39.9.59 1.41.59.51 0 1.02-.2 1.41-.59l7.78-7.78 2.81-2.81c.8-.78.8-2.07 0-2.86zM5.41 20L4 18.59l7.72-7.72 1.47 1.35L5.41 20z\"/>\n",
              "  </svg>\n",
              "      </button>\n",
              "      \n",
              "  <style>\n",
              "    .colab-df-container {\n",
              "      display:flex;\n",
              "      flex-wrap:wrap;\n",
              "      gap: 12px;\n",
              "    }\n",
              "\n",
              "    .colab-df-convert {\n",
              "      background-color: #E8F0FE;\n",
              "      border: none;\n",
              "      border-radius: 50%;\n",
              "      cursor: pointer;\n",
              "      display: none;\n",
              "      fill: #1967D2;\n",
              "      height: 32px;\n",
              "      padding: 0 0 0 0;\n",
              "      width: 32px;\n",
              "    }\n",
              "\n",
              "    .colab-df-convert:hover {\n",
              "      background-color: #E2EBFA;\n",
              "      box-shadow: 0px 1px 2px rgba(60, 64, 67, 0.3), 0px 1px 3px 1px rgba(60, 64, 67, 0.15);\n",
              "      fill: #174EA6;\n",
              "    }\n",
              "\n",
              "    [theme=dark] .colab-df-convert {\n",
              "      background-color: #3B4455;\n",
              "      fill: #D2E3FC;\n",
              "    }\n",
              "\n",
              "    [theme=dark] .colab-df-convert:hover {\n",
              "      background-color: #434B5C;\n",
              "      box-shadow: 0px 1px 3px 1px rgba(0, 0, 0, 0.15);\n",
              "      filter: drop-shadow(0px 1px 2px rgba(0, 0, 0, 0.3));\n",
              "      fill: #FFFFFF;\n",
              "    }\n",
              "  </style>\n",
              "\n",
              "      <script>\n",
              "        const buttonEl =\n",
              "          document.querySelector('#df-b84da20f-910c-4aa4-b964-760328b77c62 button.colab-df-convert');\n",
              "        buttonEl.style.display =\n",
              "          google.colab.kernel.accessAllowed ? 'block' : 'none';\n",
              "\n",
              "        async function convertToInteractive(key) {\n",
              "          const element = document.querySelector('#df-b84da20f-910c-4aa4-b964-760328b77c62');\n",
              "          const dataTable =\n",
              "            await google.colab.kernel.invokeFunction('convertToInteractive',\n",
              "                                                     [key], {});\n",
              "          if (!dataTable) return;\n",
              "\n",
              "          const docLinkHtml = 'Like what you see? Visit the ' +\n",
              "            '<a target=\"_blank\" href=https://colab.research.google.com/notebooks/data_table.ipynb>data table notebook</a>'\n",
              "            + ' to learn more about interactive tables.';\n",
              "          element.innerHTML = '';\n",
              "          dataTable['output_type'] = 'display_data';\n",
              "          await google.colab.output.renderOutput(dataTable, element);\n",
              "          const docLink = document.createElement('div');\n",
              "          docLink.innerHTML = docLinkHtml;\n",
              "          element.appendChild(docLink);\n",
              "        }\n",
              "      </script>\n",
              "    </div>\n",
              "  </div>\n",
              "  "
            ],
            "text/plain": [
              "        sentiment  ...                                               text\n",
              "0               1  ...  @MissBianca76 Yes, talking helps a lot.. going...\n",
              "1               1  ...  SUNSHINE. livingg itttt. imma lie on the grass...\n",
              "2               1  ...           @PleaseBeMine Something for your iphone \n",
              "3               0  ...  @GabrielSaporta couldn't get in to the after p...\n",
              "4               0  ...  @bradiewebbstack awww is andy being mean again...\n",
              "...           ...  ...                                                ...\n",
              "224989          0  ...  @Dropsofreign yeah I hope Iran people reach fr...\n",
              "224990          1  ...                          Trying the qwerty keypad \n",
              "224991          0  ...  I love Jasper &amp; Jackson but that wig in th...\n",
              "224992          0  ...  I am really tired and bored and bleh! I feel c...\n",
              "224993          1  ...  @alyshatan good luck!! It sounds interesting t...\n",
              "\n",
              "[224994 rows x 6 columns]"
            ]
          },
          "metadata": {},
          "execution_count": 3
        }
      ]
    },
    {
      "cell_type": "markdown",
      "source": [
        "# Analyzing Dataset"
      ],
      "metadata": {
        "id": "XkCO7MaKs6QG"
      }
    },
    {
      "cell_type": "code",
      "source": [
        "dataframe.info()"
      ],
      "metadata": {
        "colab": {
          "base_uri": "https://localhost:8080/"
        },
        "id": "8CzAI4p9s-cX",
        "outputId": "02432992-5663-4c13-af2b-60190e8ce783"
      },
      "execution_count": null,
      "outputs": [
        {
          "output_type": "stream",
          "name": "stdout",
          "text": [
            "<class 'pandas.core.frame.DataFrame'>\n",
            "RangeIndex: 224994 entries, 0 to 224993\n",
            "Data columns (total 6 columns):\n",
            " #   Column     Non-Null Count   Dtype \n",
            "---  ------     --------------   ----- \n",
            " 0   sentiment  224994 non-null  int64 \n",
            " 1   ids        224994 non-null  int64 \n",
            " 2   date       224994 non-null  object\n",
            " 3   flag       224994 non-null  object\n",
            " 4   user       224994 non-null  object\n",
            " 5   text       224994 non-null  object\n",
            "dtypes: int64(2), object(4)\n",
            "memory usage: 10.3+ MB\n"
          ]
        }
      ]
    },
    {
      "cell_type": "markdown",
      "source": [
        "# Preprocessing"
      ],
      "metadata": {
        "id": "ImAbHIPZ96rU"
      }
    },
    {
      "cell_type": "code",
      "source": [
        "\"\"\" Some Examples \"\"\"\n",
        "\n",
        "print(dataframe['text'][63])\n",
        "# In this case one word is non English\n",
        "\n",
        "print(dataframe['text'][51])\n",
        "# In this case we have @id + website\n",
        "\n",
        "print(dataframe['text'][149])\n",
        "# In this case word [-O] is not a word\n",
        "\n",
        "\n",
        "\"\"\" So many cases exist in the dataset like cases above and needs to be cleaned \"\"\""
      ],
      "metadata": {
        "colab": {
          "base_uri": "https://localhost:8080/",
          "height": 87
        },
        "id": "CALFgKY-tMb1",
        "outputId": "f5bd539a-8d4f-40a3-9075-d58e89e0b70f"
      },
      "execution_count": null,
      "outputs": [
        {
          "output_type": "stream",
          "name": "stdout",
          "text": [
            "@Md8oz that hurt  ã?³ just fucked me harddddd lol\n",
            "@HOTTVampChick here you go  http://bit.ly/qNtRH\n",
            "[-O] Just got off work getting ready to leave for INDPLS 500 mini-marathon. Wish me luck.  http://tinyurl.com/cnn45k\n"
          ]
        },
        {
          "output_type": "execute_result",
          "data": {
            "application/vnd.google.colaboratory.intrinsic+json": {
              "type": "string"
            },
            "text/plain": [
              "' So many cases exist in the dataset like cases above and needs to be cleaned '"
            ]
          },
          "metadata": {},
          "execution_count": 5
        }
      ]
    },
    {
      "cell_type": "code",
      "source": [
        "texts = dataframe['text']\n",
        "sentiments = dataframe['sentiment']\n",
        "\n",
        "new_texts = []\n",
        "\n",
        "for i in range(len(texts)):\n",
        "  text = texts[i].lower()\n",
        "  # Replace URLs with a space in the message\n",
        "  text = re.sub('https?:\\/\\/[a-zA-Z0-9@:%._\\/+~#=?&;-]*', ' ', text)\n",
        "\n",
        "  # Remove non english words\n",
        "  tmp = []\n",
        "  words = text.split()\n",
        "  for i in range(len(words)):\n",
        "    word = words[i]\n",
        "    has_non_ascii = False\n",
        "    for char in word:\n",
        "      if ord(char) > 127:\n",
        "        has_non_ascii = True\n",
        "        break\n",
        "    if not has_non_ascii:\n",
        "      tmp.append(word)\n",
        "  text = ' '.join([w for w in tmp])\n",
        "\n",
        " \n",
        "\n",
        "  new_texts.append(text)\n",
        "\n"
      ],
      "metadata": {
        "id": "CoMj-gq_xTPn"
      },
      "execution_count": null,
      "outputs": []
    },
    {
      "cell_type": "code",
      "source": [
        "# Find maximum lenght of tweet for tokenizer\n",
        "maxLen = 0\n",
        "for text in new_texts:\n",
        "  if len(text) > maxLen:\n",
        "    print(text)\n",
        "    maxLen = len(text)\n",
        "\n",
        "print(\"Max lenght of a tweet has \",maxLen,\" words\")"
      ],
      "metadata": {
        "id": "guMVe-7G1l04",
        "colab": {
          "base_uri": "https://localhost:8080/"
        },
        "outputId": "a87be3f8-bb65-4cd8-83eb-1d40fe6683ac"
      },
      "execution_count": null,
      "outputs": [
        {
          "output_type": "stream",
          "name": "stdout",
          "text": [
            "@missbianca76 yes, talking helps a lot.. going through it, there's no judgment... most sentences end with &quot;you know what i mean&quot;\n",
            "@the_wockeez i wanna say thanks for brining hiphop to a nkotb show. i'm a hiphop junkie &amp; loose my mind when y'all hit the stage!! thanks\n",
            "@dave_annable b&amp;s is in my netflix queue &amp; i should receive the first dvd mon. can't wait to watch it &amp; give a full review - ebert style!\n",
            "think &quot;mental&quot; is some kind of copy of house m.d.. they even have their own &quot;cuddy&quot;.. not impressed at all you copy house-you fail!\n",
            "i am soooo saying this phrase now &quot;stop be so false&quot; thanks to some @aliciaway &quot;hater&quot;/yoda person! goodnight and stop be so false!!\n",
            "&quot;hey, natalie!&quot; &quot;what?&quot; &quot;....what? i didn't say anything.&quot; &quot;fuck off.&quot; ...just another wonderful conversation with my sis\n",
            "hate hate hate admin - my admin file labels read &quot;boring stuff 1&quot; &quot;bs 2&quot; &quot;stuff 2 try &amp; avoid&quot; etc.!!! hmphff *folds arms &amp; stomps foot*\n",
            "Max lenght of a tweet has  174  words\n"
          ]
        }
      ]
    },
    {
      "cell_type": "markdown",
      "source": [
        "# Load BERT layer for preprocessing"
      ],
      "metadata": {
        "id": "4Q-cLJDsUPBp"
      }
    },
    {
      "cell_type": "code",
      "source": [
        "module_url = 'https://tfhub.dev/tensorflow/bert_en_uncased_L-12_H-768_A-12/2'\n",
        "bert_layer = hub.KerasLayer(module_url, trainable=True)"
      ],
      "metadata": {
        "id": "mD4WC0CJwiiI",
        "colab": {
          "base_uri": "https://localhost:8080/"
        },
        "outputId": "59bec2ba-f8c7-4990-d97e-84030bcc79f1"
      },
      "execution_count": null,
      "outputs": [
        {
          "output_type": "stream",
          "name": "stderr",
          "text": [
            "INFO:absl:Using /tmp/tfhub_modules to cache modules.\n",
            "INFO:absl:Downloading TF-Hub Module 'https://tfhub.dev/tensorflow/bert_en_uncased_L-12_H-768_A-12/2'.\n",
            "INFO:absl:Downloaded https://tfhub.dev/tensorflow/bert_en_uncased_L-12_H-768_A-12/2, Total size: 421.50MB\n",
            "INFO:absl:Downloaded TF-Hub Module 'https://tfhub.dev/tensorflow/bert_en_uncased_L-12_H-768_A-12/2'.\n"
          ]
        }
      ]
    },
    {
      "cell_type": "markdown",
      "source": [
        "# Tokenize Tweets"
      ],
      "metadata": {
        "id": "GNc1dUMXUTSz"
      }
    },
    {
      "cell_type": "code",
      "source": [
        "vocab_file = bert_layer.resolved_object.vocab_file.asset_path.numpy()\n",
        "do_lower_case = bert_layer.resolved_object.do_lower_case.numpy()\n",
        "tokenizer = tokenization.FullTokenizer(vocab_file, do_lower_case)\n",
        "\n",
        "def bert_encode(texts, tokenizer, max_len=512):\n",
        "    all_tokens = []\n",
        "    all_masks = []\n",
        "    all_segments = []\n",
        "    \n",
        "    for text in texts:\n",
        "        text = tokenizer.tokenize(text)\n",
        "            \n",
        "        text = text[:max_len-2]\n",
        "        input_sequence = [\"[CLS]\"] + text + [\"[SEP]\"]\n",
        "        pad_len = max_len - len(input_sequence)\n",
        "        \n",
        "        tokens = tokenizer.convert_tokens_to_ids(input_sequence) + [0] * pad_len\n",
        "        pad_masks = [1] * len(input_sequence) + [0] * pad_len\n",
        "        segment_ids = [0] * max_len\n",
        "        \n",
        "        all_tokens.append(tokens)      # Token vector\n",
        "        all_masks.append(pad_masks)    # Mask vector\n",
        "        all_segments.append(segment_ids)  # Segment Vector\n",
        "    \n",
        "    return np.array(all_tokens), np.array(all_masks), np.array(all_segments)"
      ],
      "metadata": {
        "id": "Iz9YeJXkxT23"
      },
      "execution_count": null,
      "outputs": []
    },
    {
      "cell_type": "markdown",
      "source": [
        "# Split Validation and Test"
      ],
      "metadata": {
        "id": "CQ7JCo_EVEP9"
      }
    },
    {
      "cell_type": "code",
      "source": [
        "\"\"\" While trying to find best model we used test_size = 0.15 ; however; for getting the best results we used 99% of data for training \"\"\"  \n",
        "train_input ,val_input,train_y,val_y = train_test_split(new_texts,np.array(sentiments),test_size = .01,stratify=np.array(sentiments),random_state = 0)\n",
        "train_x = bert_encode(train_input, tokenizer, max_len=maxLen)\n",
        "val_x = bert_encode(val_input, tokenizer, max_len=maxLen)\n",
        "train_y = train_y.astype('float32').reshape((-1,1))\n",
        "val_y = val_y.astype('float32').reshape((-1,1))\n"
      ],
      "metadata": {
        "id": "Xh7GLZOmyaKL"
      },
      "execution_count": null,
      "outputs": []
    },
    {
      "cell_type": "markdown",
      "source": [
        "# Building model"
      ],
      "metadata": {
        "id": "ajFGoK0yATyk"
      }
    },
    {
      "cell_type": "code",
      "source": [
        "def build_model(max_len=140):\n",
        "    encoder = TFBertModel.from_pretrained(\"bert-base-uncased\")   #Bert base pre-trained model \n",
        "    input_word_ids = tf.keras.Input(shape=(max_len,), dtype=tf.int32, name=\"input_word_ids\")\n",
        "    input_mask = tf.keras.Input(shape=(max_len,), dtype=tf.int32, name=\"input_mask\")\n",
        "    segment_ids = tf.keras.Input(shape=(max_len,), dtype=tf.int32, name=\"segment_ids\")\n",
        "\n",
        "    clf_output = encoder([input_word_ids, input_mask, segment_ids])[0][:,0,:]\n",
        "\n",
        "    # Our classifier \n",
        "    net = tf.keras.layers.Dropout(0.3)(clf_output)\n",
        "    net = tf.keras.layers.Dense(128, activation='relu')(net)\n",
        "    net = tf.keras.layers.Dropout(0.2)(net)\n",
        "    net = tf.keras.layers.Dense(64, activation='relu')(net)\n",
        "    net = tf.keras.layers.Dropout(0.2)(net)\n",
        "    out = tf.keras.layers.Dense(2, activation='softmax')(net)\n",
        "\n",
        "    loss = tf.keras.losses.SparseCategoricalCrossentropy(from_logits=True)\n",
        "    metric = tf.keras.metrics.SparseCategoricalAccuracy()\n",
        "    optimizer = tf.keras.optimizers.Adam(learning_rate=1e-5,epsilon=1e-08)\n",
        "    \n",
        "    model = tf.keras.Model(inputs=[input_word_ids, input_mask, segment_ids], outputs=out)\n",
        "    model.compile(loss=loss,optimizer=optimizer,metrics=[metric])  \n",
        "\n",
        "\n",
        "    \n",
        "    return model"
      ],
      "metadata": {
        "id": "ZcPUfLrlyQgI"
      },
      "execution_count": null,
      "outputs": []
    },
    {
      "cell_type": "markdown",
      "source": [
        "# Build model in TPU in order to fast training"
      ],
      "metadata": {
        "id": "nTPZL8J_AaeK"
      }
    },
    {
      "cell_type": "code",
      "source": [
        "# Create distribution strategy\n",
        "resolver = tf.distribute.cluster_resolver.TPUClusterResolver(tpu='grpc://' + os.environ['COLAB_TPU_ADDR'])\n",
        "#Connect to the TPU handle and initialise it\n",
        "tf.config.experimental_connect_to_cluster(resolver)\n",
        "tf.tpu.experimental.initialize_tpu_system(resolver)\n",
        "strategy = tf.distribute.experimental.TPUStrategy(resolver)"
      ],
      "metadata": {
        "id": "fsLOyc1m1Daj"
      },
      "execution_count": null,
      "outputs": []
    },
    {
      "cell_type": "markdown",
      "source": [
        "# Model Summary"
      ],
      "metadata": {
        "id": "bLm9DyEXVkAl"
      }
    },
    {
      "cell_type": "code",
      "source": [
        "with strategy.scope():\n",
        " model= build_model(max_len=maxLen)\n",
        "model.summary()"
      ],
      "metadata": {
        "id": "xcnzGbwX246z",
        "colab": {
          "base_uri": "https://localhost:8080/",
          "height": 951,
          "referenced_widgets": [
            "d5704fa271524374bcf212780456f17d",
            "801970568e204015b46b44d0fd2d229d",
            "44543aebc12342a5822fb1877f0e0baf",
            "51166507feba4708ac4285de9faa69a2",
            "a7c8eee79f6447d898dea28eb1a54b2e",
            "ac9088d82ab94f7cbe9bdf0c0be70304",
            "72493ed3b1354f1285fc924001ce8413",
            "8921f79856364cfb9b01f9b110984453",
            "d4a6058d30344211b28eb73598490360",
            "e76b9f4349264f63845857fd51e4e9e2",
            "8efc486773534af9b6fd0d0746b88c57",
            "d937e91043344affb9cbdd5329899b8d",
            "523ac2e87329446bbc4ff4e7b82aa939",
            "2929ba76bada48f4b7a267ec48c8bc78",
            "f2530c6185b340838dda851c46dda7af",
            "fc08c3674d5c46efb4e4ab48794bda2c",
            "0f6334be06874ecc850efd20bfb24e11",
            "6ba99158a3c04754bcb06c9d122a1c0d",
            "a3861b76621443b994f2a4d954f5c3bc",
            "6444a4370c9141f3b884ff4d8dbe657b",
            "d1faaddae1e3411099d9ff05da8f1f28",
            "e509de837f8646ce9fbbc024647ce6d3"
          ]
        },
        "outputId": "85541ca1-fc21-4c49-fd4a-132fbe7d15c9"
      },
      "execution_count": null,
      "outputs": [
        {
          "output_type": "display_data",
          "data": {
            "application/vnd.jupyter.widget-view+json": {
              "model_id": "d5704fa271524374bcf212780456f17d",
              "version_minor": 0,
              "version_major": 2
            },
            "text/plain": [
              "Downloading:   0%|          | 0.00/570 [00:00<?, ?B/s]"
            ]
          },
          "metadata": {}
        },
        {
          "output_type": "display_data",
          "data": {
            "application/vnd.jupyter.widget-view+json": {
              "model_id": "d937e91043344affb9cbdd5329899b8d",
              "version_minor": 0,
              "version_major": 2
            },
            "text/plain": [
              "Downloading:   0%|          | 0.00/511M [00:00<?, ?B/s]"
            ]
          },
          "metadata": {}
        },
        {
          "output_type": "stream",
          "name": "stderr",
          "text": [
            "Some layers from the model checkpoint at bert-base-uncased were not used when initializing TFBertModel: ['nsp___cls', 'mlm___cls']\n",
            "- This IS expected if you are initializing TFBertModel from the checkpoint of a model trained on another task or with another architecture (e.g. initializing a BertForSequenceClassification model from a BertForPreTraining model).\n",
            "- This IS NOT expected if you are initializing TFBertModel from the checkpoint of a model that you expect to be exactly identical (initializing a BertForSequenceClassification model from a BertForSequenceClassification model).\n",
            "All the layers of TFBertModel were initialized from the model checkpoint at bert-base-uncased.\n",
            "If your task is similar to the task the model of the checkpoint was trained on, you can already use TFBertModel for predictions without further training.\n"
          ]
        },
        {
          "output_type": "stream",
          "name": "stdout",
          "text": [
            "Model: \"model\"\n",
            "__________________________________________________________________________________________________\n",
            " Layer (type)                   Output Shape         Param #     Connected to                     \n",
            "==================================================================================================\n",
            " input_word_ids (InputLayer)    [(None, 174)]        0           []                               \n",
            "                                                                                                  \n",
            " input_mask (InputLayer)        [(None, 174)]        0           []                               \n",
            "                                                                                                  \n",
            " segment_ids (InputLayer)       [(None, 174)]        0           []                               \n",
            "                                                                                                  \n",
            " tf_bert_model (TFBertModel)    TFBaseModelOutputWi  109482240   ['input_word_ids[0][0]',         \n",
            "                                thPoolingAndCrossAt               'input_mask[0][0]',             \n",
            "                                tentions(last_hidde               'segment_ids[0][0]']            \n",
            "                                n_state=(None, 174,                                               \n",
            "                                 768),                                                            \n",
            "                                 pooler_output=(Non                                               \n",
            "                                e, 768),                                                          \n",
            "                                 past_key_values=No                                               \n",
            "                                ne, hidden_states=N                                               \n",
            "                                one, attentions=Non                                               \n",
            "                                e, cross_attentions                                               \n",
            "                                =None)                                                            \n",
            "                                                                                                  \n",
            " tf.__operators__.getitem (Slic  (None, 768)         0           ['tf_bert_model[0][0]']          \n",
            " ingOpLambda)                                                                                     \n",
            "                                                                                                  \n",
            " dropout_37 (Dropout)           (None, 768)          0           ['tf.__operators__.getitem[0][0]'\n",
            "                                                                 ]                                \n",
            "                                                                                                  \n",
            " dense (Dense)                  (None, 128)          98432       ['dropout_37[0][0]']             \n",
            "                                                                                                  \n",
            " dropout_38 (Dropout)           (None, 128)          0           ['dense[0][0]']                  \n",
            "                                                                                                  \n",
            " dense_1 (Dense)                (None, 64)           8256        ['dropout_38[0][0]']             \n",
            "                                                                                                  \n",
            " dropout_39 (Dropout)           (None, 64)           0           ['dense_1[0][0]']                \n",
            "                                                                                                  \n",
            " dense_2 (Dense)                (None, 2)            130         ['dropout_39[0][0]']             \n",
            "                                                                                                  \n",
            "==================================================================================================\n",
            "Total params: 109,589,058\n",
            "Trainable params: 109,589,058\n",
            "Non-trainable params: 0\n",
            "__________________________________________________________________________________________________\n"
          ]
        }
      ]
    },
    {
      "cell_type": "markdown",
      "source": [
        "# Training"
      ],
      "metadata": {
        "id": "xGtMwbOEAfHJ"
      }
    },
    {
      "cell_type": "code",
      "source": [
        "checkpoint = tf.keras.callbacks.ModelCheckpoint('model.h5', monitor='val_sparse_categorical_accuracy', save_best_only=True, verbose=1)\n",
        "\n",
        "train_history = model.fit(train_x, train_y,validation_data = [val_x,val_y],validation_batch_size = 64,epochs=1,callbacks=[checkpoint],batch_size=32,verbose=1)"
      ],
      "metadata": {
        "colab": {
          "base_uri": "https://localhost:8080/"
        },
        "id": "Hn5F3YzNyoro",
        "outputId": "78fa9a70-7c36-413f-9ad1-2a0ae1766ffa"
      },
      "execution_count": null,
      "outputs": [
        {
          "output_type": "stream",
          "name": "stdout",
          "text": [
            "6961/6961 [==============================] - ETA: 0s - loss: 0.3140 - sparse_categorical_accuracy: 0.8658\n",
            "Epoch 00001: val_sparse_categorical_accuracy improved from -inf to 0.86178, saving model to model.h5\n",
            "6961/6961 [==============================] - 646s 93ms/step - loss: 0.3140 - sparse_categorical_accuracy: 0.8658 - val_loss: 0.3213 - val_sparse_categorical_accuracy: 0.8618 - lr: 1.0000e-05\n"
          ]
        }
      ]
    },
    {
      "cell_type": "markdown",
      "source": [
        "# Plot training"
      ],
      "metadata": {
        "id": "kQiyaAmECWW9"
      }
    },
    {
      "cell_type": "code",
      "source": [
        "# For 2 epochs we do not need to plot training process\n",
        "def plot_acc(history, title = 'Accuracy'):\n",
        "    plt.figure(figsize=(15,10))\n",
        "    if not isinstance(history, dict):\n",
        "        history = history.history\n",
        "\n",
        "    plt.plot(history['sparse_categorical_accuracy'])\n",
        "    plt.plot(history['val_sparse_categorical_accuracy'])\n",
        "    if title is not None:\n",
        "        plt.title(title)\n",
        "\n",
        "    plt.ylabel('Accuracy')\n",
        "    plt.xlabel('Epoch')\n",
        "\n",
        "def plot_loss(history, title = 'loss'):\n",
        "    plt.figure(figsize=(15,10))\n",
        "    if not isinstance(history, dict):\n",
        "        history = history.history\n",
        "\n",
        "    plt.plot(history['loss'])\n",
        "    plt.plot(history['val_loss'])\n",
        "    if title is not None:\n",
        "        plt.title(title)\n",
        "\n",
        "plot_loss(train_history)\n",
        "plot_acc(train_history)"
      ],
      "metadata": {
        "id": "dnV5VAVv_nc_"
      },
      "execution_count": null,
      "outputs": []
    },
    {
      "cell_type": "markdown",
      "metadata": {
        "id": "0TXCNEhqeQoq"
      },
      "source": [
        "# Evaluate Model"
      ]
    },
    {
      "cell_type": "code",
      "execution_count": null,
      "metadata": {
        "id": "IjLe-DOZChCu",
        "colab": {
          "base_uri": "https://localhost:8080/"
        },
        "outputId": "c13c406f-3cbd-4e7e-a214-ed6ddb5ca3c8"
      },
      "outputs": [
        {
          "output_type": "stream",
          "name": "stderr",
          "text": [
            "INFO:absl:TPU has inputs with dynamic shapes: [<tf.Tensor 'Const:0' shape=() dtype=int32>, <tf.Tensor 'cond/Identity:0' shape=(None, 174) dtype=int64>, <tf.Tensor 'cond/Identity_8:0' shape=(None, 174) dtype=int64>, <tf.Tensor 'cond/Identity_16:0' shape=(None, 174) dtype=int64>]\n"
          ]
        },
        {
          "output_type": "stream",
          "name": "stdout",
          "text": [
            "              precision    recall  f1-score   support\n",
            "\n",
            "    Negative       0.86      0.80      0.83       948\n",
            "    Positive       0.86      0.91      0.89      1302\n",
            "\n",
            "    accuracy                           0.86      2250\n",
            "   macro avg       0.86      0.86      0.86      2250\n",
            "weighted avg       0.86      0.86      0.86      2250\n",
            "\n"
          ]
        }
      ],
      "source": [
        "# Load the best model an evaluate on our little validation\n",
        "model.load_weights('model.h5')\n",
        "predictions = model.predict(val_x)\n",
        "target_names = ['Negative', 'Positive']\n",
        "print(classification_report(val_y, np.argmax(predictions,axis = 1), target_names=target_names))"
      ]
    },
    {
      "cell_type": "markdown",
      "source": [
        "# Confusion matrix on validation "
      ],
      "metadata": {
        "id": "B1FMkWbiV9QG"
      }
    },
    {
      "cell_type": "code",
      "execution_count": null,
      "metadata": {
        "id": "Y1fGIbqDBUih",
        "colab": {
          "base_uri": "https://localhost:8080/",
          "height": 296
        },
        "outputId": "1f8e7fe1-4936-47fd-b4cc-54f92c2c499a"
      },
      "outputs": [
        {
          "output_type": "execute_result",
          "data": {
            "text/plain": [
              "<sklearn.metrics._plot.confusion_matrix.ConfusionMatrixDisplay at 0x7f61b89e0b90>"
            ]
          },
          "metadata": {},
          "execution_count": 16
        },
        {
          "output_type": "display_data",
          "data": {
            "image/png": "[encoded data removed]",
            "text/plain": [
              "<Figure size 432x288 with 2 Axes>"
            ]
          },
          "metadata": {
            "needs_background": "light"
          }
        }
      ],
      "source": [
        "from sklearn.metrics import confusion_matrix, ConfusionMatrixDisplay\n",
        "\n",
        "cm = confusion_matrix(y_true = val_y,y_pred = np.argmax(predictions,axis = 1), labels=[0,1])\n",
        "disp = ConfusionMatrixDisplay(confusion_matrix=cm,display_labels=target_names)\n",
        "disp.plot(cmap = \"Blues\")"
      ]
    },
    {
      "cell_type": "markdown",
      "metadata": {
        "id": "WnUF14piDHXc"
      },
      "source": [
        "# Test on Evaluation DataSet "
      ]
    },
    {
      "cell_type": "code",
      "execution_count": null,
      "metadata": {
        "id": "uylKLx0ADOlz"
      },
      "outputs": [],
      "source": [
        "# Do the same preprocessing for Test dataset\n",
        "\n",
        "test_dataframe = pd.read_csv('/content/DSL2122_january_dataset/evaluation.csv')\n",
        "texts = test_dataframe['text']\n",
        "\n",
        "\n",
        "new_texts = []\n",
        "\n",
        "\n",
        "for i in range(len(texts)):\n",
        "  text = texts[i].lower()\n",
        "  # Replace URLs with a space in the message\n",
        "  text = re.sub('https?:\\/\\/[a-zA-Z0-9@:%._\\/+~#=?&;-]*', ' ', text)\n",
        "\n",
        "  # Remove stop words\n",
        "  tmp = []\n",
        "  words = text.split()\n",
        "  for i in range(len(words)):\n",
        "    word = words[i]\n",
        "    has_non_ascii = False\n",
        "    for char in word:\n",
        "      if ord(char) > 127:\n",
        "        has_non_ascii = True\n",
        "        break\n",
        "    if not has_non_ascii:\n",
        "      tmp.append(word)\n",
        "  text = ' '.join([w for w in tmp])\n",
        "\n",
        "  \n",
        "\n",
        "  new_texts.append(text)\n",
        "  \n",
        "\n"
      ]
    },
    {
      "cell_type": "markdown",
      "source": [
        "# Predict on test dataset and make submission csv"
      ],
      "metadata": {
        "id": "yM-GDWmqWJu6"
      }
    },
    {
      "cell_type": "code",
      "source": [
        "test_input = bert_encode(new_texts, tokenizer, max_len=maxLen)\n",
        "p = model.predict(test_input)\n",
        "p = np.argmax(p,axis = 1)"
      ],
      "metadata": {
        "id": "1d2_f7dFGhXg"
      },
      "execution_count": null,
      "outputs": []
    },
    {
      "cell_type": "code",
      "execution_count": null,
      "metadata": {
        "id": "yQ9RxjqsYee9"
      },
      "outputs": [],
      "source": [
        "submission_csv = pd.read_csv('/content/DSL2122_january_dataset/sample_submission.csv')\n",
        "\n",
        "submission_csv['Predicted'] = p\n",
        "submission_csv.to_csv('submission.csv',index =False)"
      ]
    }
  ]
}